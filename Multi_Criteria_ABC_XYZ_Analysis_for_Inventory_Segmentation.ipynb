{
  "nbformat": 4,
  "nbformat_minor": 0,
  "metadata": {
    "colab": {
      "provenance": []
    },
    "kernelspec": {
      "name": "python3",
      "display_name": "Python 3"
    },
    "language_info": {
      "name": "python"
    }
  },
  "cells": [
    {
      "cell_type": "markdown",
      "source": [
        "# **Multi-Criteria ABC-XYZ Analysis for Inventory Segmentation**\n",
        "* Source Data:https://www.kaggle.com/datasets/hikne707/online-retail/code"
      ],
      "metadata": {
        "id": "Tbod1JBhIhZT"
      }
    },
    {
      "cell_type": "code",
      "source": [
        "!pip install pandas\n",
        "!pip install numpy\n",
        "!pip install seaborn\n",
        "!pip install inventorize3"
      ],
      "metadata": {
        "colab": {
          "base_uri": "https://localhost:8080/"
        },
        "id": "gS6lb2nsIlFa",
        "outputId": "3b8d5df6-2c1d-43ec-def5-d8a1d0411d25"
      },
      "execution_count": null,
      "outputs": [
        {
          "output_type": "stream",
          "name": "stdout",
          "text": [
            "Requirement already satisfied: pandas in /usr/local/lib/python3.11/dist-packages (2.2.2)\n",
            "Requirement already satisfied: numpy>=1.23.2 in /usr/local/lib/python3.11/dist-packages (from pandas) (2.0.2)\n",
            "Requirement already satisfied: python-dateutil>=2.8.2 in /usr/local/lib/python3.11/dist-packages (from pandas) (2.8.2)\n",
            "Requirement already satisfied: pytz>=2020.1 in /usr/local/lib/python3.11/dist-packages (from pandas) (2025.2)\n",
            "Requirement already satisfied: tzdata>=2022.7 in /usr/local/lib/python3.11/dist-packages (from pandas) (2025.2)\n",
            "Requirement already satisfied: six>=1.5 in /usr/local/lib/python3.11/dist-packages (from python-dateutil>=2.8.2->pandas) (1.17.0)\n",
            "Requirement already satisfied: numpy in /usr/local/lib/python3.11/dist-packages (2.0.2)\n",
            "Requirement already satisfied: seaborn in /usr/local/lib/python3.11/dist-packages (0.13.2)\n",
            "Requirement already satisfied: numpy!=1.24.0,>=1.20 in /usr/local/lib/python3.11/dist-packages (from seaborn) (2.0.2)\n",
            "Requirement already satisfied: pandas>=1.2 in /usr/local/lib/python3.11/dist-packages (from seaborn) (2.2.2)\n",
            "Requirement already satisfied: matplotlib!=3.6.1,>=3.4 in /usr/local/lib/python3.11/dist-packages (from seaborn) (3.10.0)\n",
            "Requirement already satisfied: contourpy>=1.0.1 in /usr/local/lib/python3.11/dist-packages (from matplotlib!=3.6.1,>=3.4->seaborn) (1.3.2)\n",
            "Requirement already satisfied: cycler>=0.10 in /usr/local/lib/python3.11/dist-packages (from matplotlib!=3.6.1,>=3.4->seaborn) (0.12.1)\n",
            "Requirement already satisfied: fonttools>=4.22.0 in /usr/local/lib/python3.11/dist-packages (from matplotlib!=3.6.1,>=3.4->seaborn) (4.57.0)\n",
            "Requirement already satisfied: kiwisolver>=1.3.1 in /usr/local/lib/python3.11/dist-packages (from matplotlib!=3.6.1,>=3.4->seaborn) (1.4.8)\n",
            "Requirement already satisfied: packaging>=20.0 in /usr/local/lib/python3.11/dist-packages (from matplotlib!=3.6.1,>=3.4->seaborn) (24.2)\n",
            "Requirement already satisfied: pillow>=8 in /usr/local/lib/python3.11/dist-packages (from matplotlib!=3.6.1,>=3.4->seaborn) (11.1.0)\n",
            "Requirement already satisfied: pyparsing>=2.3.1 in /usr/local/lib/python3.11/dist-packages (from matplotlib!=3.6.1,>=3.4->seaborn) (3.2.3)\n",
            "Requirement already satisfied: python-dateutil>=2.7 in /usr/local/lib/python3.11/dist-packages (from matplotlib!=3.6.1,>=3.4->seaborn) (2.8.2)\n",
            "Requirement already satisfied: pytz>=2020.1 in /usr/local/lib/python3.11/dist-packages (from pandas>=1.2->seaborn) (2025.2)\n",
            "Requirement already satisfied: tzdata>=2022.7 in /usr/local/lib/python3.11/dist-packages (from pandas>=1.2->seaborn) (2025.2)\n",
            "Requirement already satisfied: six>=1.5 in /usr/local/lib/python3.11/dist-packages (from python-dateutil>=2.7->matplotlib!=3.6.1,>=3.4->seaborn) (1.17.0)\n",
            "Collecting inventorize3\n",
            "  Downloading inventorize3-0.0.1.tar.gz (16 kB)\n",
            "  Preparing metadata (setup.py) ... \u001b[?25l\u001b[?25hdone\n",
            "Requirement already satisfied: scipy in /usr/local/lib/python3.11/dist-packages (from inventorize3) (1.14.1)\n",
            "Requirement already satisfied: scikit-learn in /usr/local/lib/python3.11/dist-packages (from inventorize3) (1.6.1)\n",
            "Requirement already satisfied: pandas>=0.23.3 in /usr/local/lib/python3.11/dist-packages (from inventorize3) (2.2.2)\n",
            "Requirement already satisfied: numpy>=1.14.5 in /usr/local/lib/python3.11/dist-packages (from inventorize3) (2.0.2)\n",
            "Requirement already satisfied: python-dateutil>=2.8.2 in /usr/local/lib/python3.11/dist-packages (from pandas>=0.23.3->inventorize3) (2.8.2)\n",
            "Requirement already satisfied: pytz>=2020.1 in /usr/local/lib/python3.11/dist-packages (from pandas>=0.23.3->inventorize3) (2025.2)\n",
            "Requirement already satisfied: tzdata>=2022.7 in /usr/local/lib/python3.11/dist-packages (from pandas>=0.23.3->inventorize3) (2025.2)\n",
            "Requirement already satisfied: joblib>=1.2.0 in /usr/local/lib/python3.11/dist-packages (from scikit-learn->inventorize3) (1.4.2)\n",
            "Requirement already satisfied: threadpoolctl>=3.1.0 in /usr/local/lib/python3.11/dist-packages (from scikit-learn->inventorize3) (3.6.0)\n",
            "Requirement already satisfied: six>=1.5 in /usr/local/lib/python3.11/dist-packages (from python-dateutil>=2.8.2->pandas>=0.23.3->inventorize3) (1.17.0)\n",
            "Building wheels for collected packages: inventorize3\n",
            "  Building wheel for inventorize3 (setup.py) ... \u001b[?25l\u001b[?25hdone\n",
            "  Created wheel for inventorize3: filename=inventorize3-0.0.1-py3-none-any.whl size=15574 sha256=223e80bf0295b817ab1547d26d81f9de3466e8bf7d5e5e2c1e1a4a3e0d9e1163\n",
            "  Stored in directory: /root/.cache/pip/wheels/1f/68/05/389c52c15bf1305e1d018692bddcc2e64b23130fbd4b2d2e15\n",
            "Successfully built inventorize3\n",
            "Installing collected packages: inventorize3\n",
            "Successfully installed inventorize3-0.0.1\n"
          ]
        }
      ]
    },
    {
      "cell_type": "markdown",
      "source": [
        "We use Inventorize (or inventory management tools like it) to efficiently track, manage, and control stock levels in a business."
      ],
      "metadata": {
        "id": "cgpNb-D-HRJ4"
      }
    },
    {
      "cell_type": "code",
      "source": [
        "import pandas as pd\n",
        "import numpy as np\n",
        "import seaborn as sns\n",
        "import matplotlib.pyplot as plt"
      ],
      "metadata": {
        "id": "2tncOjavJpw_"
      },
      "execution_count": null,
      "outputs": []
    },
    {
      "cell_type": "code",
      "source": [
        "df = pd.read_excel(\"Retail store.xlsx\")"
      ],
      "metadata": {
        "id": "op-oL8WyO69N"
      },
      "execution_count": null,
      "outputs": []
    },
    {
      "cell_type": "code",
      "source": [
        "df.head()"
      ],
      "metadata": {
        "id": "LPW-VxGBPapQ",
        "colab": {
          "base_uri": "https://localhost:8080/",
          "height": 206
        },
        "outputId": "95024286-6409-412f-af32-b61c3019c146"
      },
      "execution_count": null,
      "outputs": [
        {
          "output_type": "execute_result",
          "data": {
            "text/plain": [
              "  Invoice StockCode                          Description  Quantity  \\\n",
              "0  489434     85048  15CM CHRISTMAS GLASS BALL 20 LIGHTS        12   \n",
              "1  489434    79323P                   PINK CHERRY LIGHTS        12   \n",
              "2  489434    79323W                  WHITE CHERRY LIGHTS        12   \n",
              "3  489434     22041         RECORD FRAME 7\" SINGLE SIZE         48   \n",
              "4  489434     21232       STRAWBERRY CERAMIC TRINKET BOX        24   \n",
              "\n",
              "          InvoiceDate  Price  Customer ID         Country  \n",
              "0 2009-12-01 07:45:00   6.95      13085.0  United Kingdom  \n",
              "1 2009-12-01 07:45:00   6.75      13085.0  United Kingdom  \n",
              "2 2009-12-01 07:45:00   6.75      13085.0  United Kingdom  \n",
              "3 2009-12-01 07:45:00   2.10      13085.0  United Kingdom  \n",
              "4 2009-12-01 07:45:00   1.25      13085.0  United Kingdom  "
            ],
            "text/html": [
              "\n",
              "  <div id=\"df-18c7dd9d-15be-4b92-837e-c5b73abc6691\" class=\"colab-df-container\">\n",
              "    <div>\n",
              "<style scoped>\n",
              "    .dataframe tbody tr th:only-of-type {\n",
              "        vertical-align: middle;\n",
              "    }\n",
              "\n",
              "    .dataframe tbody tr th {\n",
              "        vertical-align: top;\n",
              "    }\n",
              "\n",
              "    .dataframe thead th {\n",
              "        text-align: right;\n",
              "    }\n",
              "</style>\n",
              "<table border=\"1\" class=\"dataframe\">\n",
              "  <thead>\n",
              "    <tr style=\"text-align: right;\">\n",
              "      <th></th>\n",
              "      <th>Invoice</th>\n",
              "      <th>StockCode</th>\n",
              "      <th>Description</th>\n",
              "      <th>Quantity</th>\n",
              "      <th>InvoiceDate</th>\n",
              "      <th>Price</th>\n",
              "      <th>Customer ID</th>\n",
              "      <th>Country</th>\n",
              "    </tr>\n",
              "  </thead>\n",
              "  <tbody>\n",
              "    <tr>\n",
              "      <th>0</th>\n",
              "      <td>489434</td>\n",
              "      <td>85048</td>\n",
              "      <td>15CM CHRISTMAS GLASS BALL 20 LIGHTS</td>\n",
              "      <td>12</td>\n",
              "      <td>2009-12-01 07:45:00</td>\n",
              "      <td>6.95</td>\n",
              "      <td>13085.0</td>\n",
              "      <td>United Kingdom</td>\n",
              "    </tr>\n",
              "    <tr>\n",
              "      <th>1</th>\n",
              "      <td>489434</td>\n",
              "      <td>79323P</td>\n",
              "      <td>PINK CHERRY LIGHTS</td>\n",
              "      <td>12</td>\n",
              "      <td>2009-12-01 07:45:00</td>\n",
              "      <td>6.75</td>\n",
              "      <td>13085.0</td>\n",
              "      <td>United Kingdom</td>\n",
              "    </tr>\n",
              "    <tr>\n",
              "      <th>2</th>\n",
              "      <td>489434</td>\n",
              "      <td>79323W</td>\n",
              "      <td>WHITE CHERRY LIGHTS</td>\n",
              "      <td>12</td>\n",
              "      <td>2009-12-01 07:45:00</td>\n",
              "      <td>6.75</td>\n",
              "      <td>13085.0</td>\n",
              "      <td>United Kingdom</td>\n",
              "    </tr>\n",
              "    <tr>\n",
              "      <th>3</th>\n",
              "      <td>489434</td>\n",
              "      <td>22041</td>\n",
              "      <td>RECORD FRAME 7\" SINGLE SIZE</td>\n",
              "      <td>48</td>\n",
              "      <td>2009-12-01 07:45:00</td>\n",
              "      <td>2.10</td>\n",
              "      <td>13085.0</td>\n",
              "      <td>United Kingdom</td>\n",
              "    </tr>\n",
              "    <tr>\n",
              "      <th>4</th>\n",
              "      <td>489434</td>\n",
              "      <td>21232</td>\n",
              "      <td>STRAWBERRY CERAMIC TRINKET BOX</td>\n",
              "      <td>24</td>\n",
              "      <td>2009-12-01 07:45:00</td>\n",
              "      <td>1.25</td>\n",
              "      <td>13085.0</td>\n",
              "      <td>United Kingdom</td>\n",
              "    </tr>\n",
              "  </tbody>\n",
              "</table>\n",
              "</div>\n",
              "    <div class=\"colab-df-buttons\">\n",
              "\n",
              "  <div class=\"colab-df-container\">\n",
              "    <button class=\"colab-df-convert\" onclick=\"convertToInteractive('df-18c7dd9d-15be-4b92-837e-c5b73abc6691')\"\n",
              "            title=\"Convert this dataframe to an interactive table.\"\n",
              "            style=\"display:none;\">\n",
              "\n",
              "  <svg xmlns=\"http://www.w3.org/2000/svg\" height=\"24px\" viewBox=\"0 -960 960 960\">\n",
              "    <path d=\"M120-120v-720h720v720H120Zm60-500h600v-160H180v160Zm220 220h160v-160H400v160Zm0 220h160v-160H400v160ZM180-400h160v-160H180v160Zm440 0h160v-160H620v160ZM180-180h160v-160H180v160Zm440 0h160v-160H620v160Z\"/>\n",
              "  </svg>\n",
              "    </button>\n",
              "\n",
              "  <style>\n",
              "    .colab-df-container {\n",
              "      display:flex;\n",
              "      gap: 12px;\n",
              "    }\n",
              "\n",
              "    .colab-df-convert {\n",
              "      background-color: #E8F0FE;\n",
              "      border: none;\n",
              "      border-radius: 50%;\n",
              "      cursor: pointer;\n",
              "      display: none;\n",
              "      fill: #1967D2;\n",
              "      height: 32px;\n",
              "      padding: 0 0 0 0;\n",
              "      width: 32px;\n",
              "    }\n",
              "\n",
              "    .colab-df-convert:hover {\n",
              "      background-color: #E2EBFA;\n",
              "      box-shadow: 0px 1px 2px rgba(60, 64, 67, 0.3), 0px 1px 3px 1px rgba(60, 64, 67, 0.15);\n",
              "      fill: #174EA6;\n",
              "    }\n",
              "\n",
              "    .colab-df-buttons div {\n",
              "      margin-bottom: 4px;\n",
              "    }\n",
              "\n",
              "    [theme=dark] .colab-df-convert {\n",
              "      background-color: #3B4455;\n",
              "      fill: #D2E3FC;\n",
              "    }\n",
              "\n",
              "    [theme=dark] .colab-df-convert:hover {\n",
              "      background-color: #434B5C;\n",
              "      box-shadow: 0px 1px 3px 1px rgba(0, 0, 0, 0.15);\n",
              "      filter: drop-shadow(0px 1px 2px rgba(0, 0, 0, 0.3));\n",
              "      fill: #FFFFFF;\n",
              "    }\n",
              "  </style>\n",
              "\n",
              "    <script>\n",
              "      const buttonEl =\n",
              "        document.querySelector('#df-18c7dd9d-15be-4b92-837e-c5b73abc6691 button.colab-df-convert');\n",
              "      buttonEl.style.display =\n",
              "        google.colab.kernel.accessAllowed ? 'block' : 'none';\n",
              "\n",
              "      async function convertToInteractive(key) {\n",
              "        const element = document.querySelector('#df-18c7dd9d-15be-4b92-837e-c5b73abc6691');\n",
              "        const dataTable =\n",
              "          await google.colab.kernel.invokeFunction('convertToInteractive',\n",
              "                                                    [key], {});\n",
              "        if (!dataTable) return;\n",
              "\n",
              "        const docLinkHtml = 'Like what you see? Visit the ' +\n",
              "          '<a target=\"_blank\" href=https://colab.research.google.com/notebooks/data_table.ipynb>data table notebook</a>'\n",
              "          + ' to learn more about interactive tables.';\n",
              "        element.innerHTML = '';\n",
              "        dataTable['output_type'] = 'display_data';\n",
              "        await google.colab.output.renderOutput(dataTable, element);\n",
              "        const docLink = document.createElement('div');\n",
              "        docLink.innerHTML = docLinkHtml;\n",
              "        element.appendChild(docLink);\n",
              "      }\n",
              "    </script>\n",
              "  </div>\n",
              "\n",
              "\n",
              "<div id=\"df-552eeb2b-5c18-48ff-8c52-03e47d662808\">\n",
              "  <button class=\"colab-df-quickchart\" onclick=\"quickchart('df-552eeb2b-5c18-48ff-8c52-03e47d662808')\"\n",
              "            title=\"Suggest charts\"\n",
              "            style=\"display:none;\">\n",
              "\n",
              "<svg xmlns=\"http://www.w3.org/2000/svg\" height=\"24px\"viewBox=\"0 0 24 24\"\n",
              "     width=\"24px\">\n",
              "    <g>\n",
              "        <path d=\"M19 3H5c-1.1 0-2 .9-2 2v14c0 1.1.9 2 2 2h14c1.1 0 2-.9 2-2V5c0-1.1-.9-2-2-2zM9 17H7v-7h2v7zm4 0h-2V7h2v10zm4 0h-2v-4h2v4z\"/>\n",
              "    </g>\n",
              "</svg>\n",
              "  </button>\n",
              "\n",
              "<style>\n",
              "  .colab-df-quickchart {\n",
              "      --bg-color: #E8F0FE;\n",
              "      --fill-color: #1967D2;\n",
              "      --hover-bg-color: #E2EBFA;\n",
              "      --hover-fill-color: #174EA6;\n",
              "      --disabled-fill-color: #AAA;\n",
              "      --disabled-bg-color: #DDD;\n",
              "  }\n",
              "\n",
              "  [theme=dark] .colab-df-quickchart {\n",
              "      --bg-color: #3B4455;\n",
              "      --fill-color: #D2E3FC;\n",
              "      --hover-bg-color: #434B5C;\n",
              "      --hover-fill-color: #FFFFFF;\n",
              "      --disabled-bg-color: #3B4455;\n",
              "      --disabled-fill-color: #666;\n",
              "  }\n",
              "\n",
              "  .colab-df-quickchart {\n",
              "    background-color: var(--bg-color);\n",
              "    border: none;\n",
              "    border-radius: 50%;\n",
              "    cursor: pointer;\n",
              "    display: none;\n",
              "    fill: var(--fill-color);\n",
              "    height: 32px;\n",
              "    padding: 0;\n",
              "    width: 32px;\n",
              "  }\n",
              "\n",
              "  .colab-df-quickchart:hover {\n",
              "    background-color: var(--hover-bg-color);\n",
              "    box-shadow: 0 1px 2px rgba(60, 64, 67, 0.3), 0 1px 3px 1px rgba(60, 64, 67, 0.15);\n",
              "    fill: var(--button-hover-fill-color);\n",
              "  }\n",
              "\n",
              "  .colab-df-quickchart-complete:disabled,\n",
              "  .colab-df-quickchart-complete:disabled:hover {\n",
              "    background-color: var(--disabled-bg-color);\n",
              "    fill: var(--disabled-fill-color);\n",
              "    box-shadow: none;\n",
              "  }\n",
              "\n",
              "  .colab-df-spinner {\n",
              "    border: 2px solid var(--fill-color);\n",
              "    border-color: transparent;\n",
              "    border-bottom-color: var(--fill-color);\n",
              "    animation:\n",
              "      spin 1s steps(1) infinite;\n",
              "  }\n",
              "\n",
              "  @keyframes spin {\n",
              "    0% {\n",
              "      border-color: transparent;\n",
              "      border-bottom-color: var(--fill-color);\n",
              "      border-left-color: var(--fill-color);\n",
              "    }\n",
              "    20% {\n",
              "      border-color: transparent;\n",
              "      border-left-color: var(--fill-color);\n",
              "      border-top-color: var(--fill-color);\n",
              "    }\n",
              "    30% {\n",
              "      border-color: transparent;\n",
              "      border-left-color: var(--fill-color);\n",
              "      border-top-color: var(--fill-color);\n",
              "      border-right-color: var(--fill-color);\n",
              "    }\n",
              "    40% {\n",
              "      border-color: transparent;\n",
              "      border-right-color: var(--fill-color);\n",
              "      border-top-color: var(--fill-color);\n",
              "    }\n",
              "    60% {\n",
              "      border-color: transparent;\n",
              "      border-right-color: var(--fill-color);\n",
              "    }\n",
              "    80% {\n",
              "      border-color: transparent;\n",
              "      border-right-color: var(--fill-color);\n",
              "      border-bottom-color: var(--fill-color);\n",
              "    }\n",
              "    90% {\n",
              "      border-color: transparent;\n",
              "      border-bottom-color: var(--fill-color);\n",
              "    }\n",
              "  }\n",
              "</style>\n",
              "\n",
              "  <script>\n",
              "    async function quickchart(key) {\n",
              "      const quickchartButtonEl =\n",
              "        document.querySelector('#' + key + ' button');\n",
              "      quickchartButtonEl.disabled = true;  // To prevent multiple clicks.\n",
              "      quickchartButtonEl.classList.add('colab-df-spinner');\n",
              "      try {\n",
              "        const charts = await google.colab.kernel.invokeFunction(\n",
              "            'suggestCharts', [key], {});\n",
              "      } catch (error) {\n",
              "        console.error('Error during call to suggestCharts:', error);\n",
              "      }\n",
              "      quickchartButtonEl.classList.remove('colab-df-spinner');\n",
              "      quickchartButtonEl.classList.add('colab-df-quickchart-complete');\n",
              "    }\n",
              "    (() => {\n",
              "      let quickchartButtonEl =\n",
              "        document.querySelector('#df-552eeb2b-5c18-48ff-8c52-03e47d662808 button');\n",
              "      quickchartButtonEl.style.display =\n",
              "        google.colab.kernel.accessAllowed ? 'block' : 'none';\n",
              "    })();\n",
              "  </script>\n",
              "</div>\n",
              "\n",
              "    </div>\n",
              "  </div>\n"
            ],
            "application/vnd.google.colaboratory.intrinsic+json": {
              "type": "dataframe",
              "variable_name": "df"
            }
          },
          "metadata": {},
          "execution_count": 4
        }
      ]
    },
    {
      "cell_type": "code",
      "source": [
        "print(df.info())"
      ],
      "metadata": {
        "id": "uNiC-CrpP3XU",
        "colab": {
          "base_uri": "https://localhost:8080/"
        },
        "outputId": "70062d24-62ff-40ac-fb8a-8b98f97a7af6"
      },
      "execution_count": null,
      "outputs": [
        {
          "output_type": "stream",
          "name": "stdout",
          "text": [
            "<class 'pandas.core.frame.DataFrame'>\n",
            "RangeIndex: 525461 entries, 0 to 525460\n",
            "Data columns (total 8 columns):\n",
            " #   Column       Non-Null Count   Dtype         \n",
            "---  ------       --------------   -----         \n",
            " 0   Invoice      525461 non-null  object        \n",
            " 1   StockCode    525461 non-null  object        \n",
            " 2   Description  522533 non-null  object        \n",
            " 3   Quantity     525461 non-null  int64         \n",
            " 4   InvoiceDate  525461 non-null  datetime64[ns]\n",
            " 5   Price        525461 non-null  float64       \n",
            " 6   Customer ID  417534 non-null  float64       \n",
            " 7   Country      525461 non-null  object        \n",
            "dtypes: datetime64[ns](1), float64(2), int64(1), object(4)\n",
            "memory usage: 32.1+ MB\n",
            "None\n"
          ]
        }
      ]
    },
    {
      "cell_type": "code",
      "source": [
        "# show the heatmap for null values in data set\n",
        "\n",
        "plt.figure(figsize=(10,6))\n",
        "sns.heatmap(df.isnull(),yticklabels=False,cbar=False,cmap='viridis')"
      ],
      "metadata": {
        "id": "G_FdvbM-PdqI",
        "colab": {
          "base_uri": "https://localhost:8080/",
          "height": 540
        },
        "outputId": "d009e30f-6ed0-4159-ed39-ce937b6f6ab0"
      },
      "execution_count": null,
      "outputs": [
        {
          "output_type": "execute_result",
          "data": {
            "text/plain": [
              "<Axes: >"
            ]
          },
          "metadata": {},
          "execution_count": 6
        },
        {
          "output_type": "display_data",
          "data": {
            "text/plain": [
              "<Figure size 1000x600 with 1 Axes>"
            ],
            "image/png": "[encoded data removed]"
          },
          "metadata": {}
        }
      ]
    },
    {
      "cell_type": "code",
      "source": [
        "# Fill null values with the mean for numerical columns\n",
        "for col in df.select_dtypes(include=np.number):\n",
        "  df[col] = df[col].fillna(df[col].mean())"
      ],
      "metadata": {
        "id": "espgAD-dPtt6"
      },
      "execution_count": null,
      "outputs": []
    },
    {
      "cell_type": "code",
      "source": [
        "# Drop rows with missing values in the 'Description' column\n",
        "df.dropna(subset=['Description'], inplace=True)"
      ],
      "metadata": {
        "id": "e1xti3KoPwzh"
      },
      "execution_count": null,
      "outputs": []
    },
    {
      "cell_type": "code",
      "source": [
        "# show the heatmap for missing values\n",
        "plt.figure(figsize=(10,6))\n",
        "sns.heatmap(df.isnull(),yticklabels=False,cbar=False,cmap='viridis')"
      ],
      "metadata": {
        "id": "yzGU3CviPzif",
        "colab": {
          "base_uri": "https://localhost:8080/",
          "height": 753
        },
        "outputId": "79c0bb24-be76-4f2d-d55c-4a5b2ba5f08b"
      },
      "execution_count": null,
      "outputs": [
        {
          "output_type": "execute_result",
          "data": {
            "text/plain": [
              "<Axes: >"
            ]
          },
          "metadata": {},
          "execution_count": 36
        },
        {
          "output_type": "display_data",
          "data": {
            "text/plain": [
              "<Figure size 1000x600 with 1 Axes>"
            ],
            "image/png": "[encoded data removed]"
          },
          "metadata": {}
        }
      ]
    },
    {
      "cell_type": "code",
      "source": [
        "# Create a new column for revenue\n",
        "df['Revenue'] = df['Quantity'] * df['Price']\n",
        "# Show first few rows\n",
        "print(df[['Invoice', 'StockCode', 'Quantity', 'Price', 'Revenue']].head())"
      ],
      "metadata": {
        "id": "qqtvMEl9P6fE",
        "colab": {
          "base_uri": "https://localhost:8080/"
        },
        "outputId": "3fa31978-1bde-4373-f5c4-da7d70ef90ed"
      },
      "execution_count": null,
      "outputs": [
        {
          "output_type": "stream",
          "name": "stdout",
          "text": [
            "  Invoice StockCode  Quantity  Price  Revenue\n",
            "0  489434     85048        12   6.95     83.4\n",
            "1  489434    79323P        12   6.75     81.0\n",
            "2  489434    79323W        12   6.75     81.0\n",
            "3  489434     22041        48   2.10    100.8\n",
            "4  489434     21232        24   1.25     30.0\n"
          ]
        }
      ]
    },
    {
      "cell_type": "code",
      "source": [
        "# Lets summarize the data for SKU's ( Per SKU Total Quantity & Total Revenue)\n",
        "summaized_data= df.groupby(['StockCode','Description']).agg(Quantity=('Quantity',np.sum),Revenue=('Revenue',np.sum)).reset_index() # Changed 'data_abc' to 'df'\n",
        "summaized_data.head()"
      ],
      "metadata": {
        "id": "YBhBOz1dhllT",
        "colab": {
          "base_uri": "https://localhost:8080/",
          "height": 299
        },
        "outputId": "c85e1d58-e4cb-4475-a8a6-8c8aee847ee0"
      },
      "execution_count": null,
      "outputs": [
        {
          "output_type": "stream",
          "name": "stderr",
          "text": [
            "<ipython-input-11-4727be7e3890>:2: FutureWarning: The provided callable <function sum at 0x7d7684f0cea0> is currently using SeriesGroupBy.sum. In a future version of pandas, the provided callable will be used directly. To keep current behavior pass the string \"sum\" instead.\n",
            "  summaized_data= df.groupby(['StockCode','Description']).agg(Quantity=('Quantity',np.sum),Revenue=('Revenue',np.sum)).reset_index() # Changed 'data_abc' to 'df'\n",
            "<ipython-input-11-4727be7e3890>:2: FutureWarning: The provided callable <function sum at 0x7d7684f0cea0> is currently using SeriesGroupBy.sum. In a future version of pandas, the provided callable will be used directly. To keep current behavior pass the string \"sum\" instead.\n",
            "  summaized_data= df.groupby(['StockCode','Description']).agg(Quantity=('Quantity',np.sum),Revenue=('Revenue',np.sum)).reset_index() # Changed 'data_abc' to 'df'\n"
          ]
        },
        {
          "output_type": "execute_result",
          "data": {
            "text/plain": [
              "  StockCode                  Description  Quantity  Revenue\n",
              "0     10002  INFLATABLE POLITICAL GLOBE       6753  5454.46\n",
              "1     10080     GROOVY CACTUS INFLATABLE        12    10.20\n",
              "2     10109         BENDY COLOUR PENCILS         4     1.68\n",
              "3     10120                 DOGGY RUBBER       457    99.27\n",
              "4     10120          Zebra invcing error     -9000     0.00"
            ],
            "text/html": [
              "\n",
              "  <div id=\"df-6ef5f571-ddd4-4710-843a-0e6079fb3795\" class=\"colab-df-container\">\n",
              "    <div>\n",
              "<style scoped>\n",
              "    .dataframe tbody tr th:only-of-type {\n",
              "        vertical-align: middle;\n",
              "    }\n",
              "\n",
              "    .dataframe tbody tr th {\n",
              "        vertical-align: top;\n",
              "    }\n",
              "\n",
              "    .dataframe thead th {\n",
              "        text-align: right;\n",
              "    }\n",
              "</style>\n",
              "<table border=\"1\" class=\"dataframe\">\n",
              "  <thead>\n",
              "    <tr style=\"text-align: right;\">\n",
              "      <th></th>\n",
              "      <th>StockCode</th>\n",
              "      <th>Description</th>\n",
              "      <th>Quantity</th>\n",
              "      <th>Revenue</th>\n",
              "    </tr>\n",
              "  </thead>\n",
              "  <tbody>\n",
              "    <tr>\n",
              "      <th>0</th>\n",
              "      <td>10002</td>\n",
              "      <td>INFLATABLE POLITICAL GLOBE</td>\n",
              "      <td>6753</td>\n",
              "      <td>5454.46</td>\n",
              "    </tr>\n",
              "    <tr>\n",
              "      <th>1</th>\n",
              "      <td>10080</td>\n",
              "      <td>GROOVY CACTUS INFLATABLE</td>\n",
              "      <td>12</td>\n",
              "      <td>10.20</td>\n",
              "    </tr>\n",
              "    <tr>\n",
              "      <th>2</th>\n",
              "      <td>10109</td>\n",
              "      <td>BENDY COLOUR PENCILS</td>\n",
              "      <td>4</td>\n",
              "      <td>1.68</td>\n",
              "    </tr>\n",
              "    <tr>\n",
              "      <th>3</th>\n",
              "      <td>10120</td>\n",
              "      <td>DOGGY RUBBER</td>\n",
              "      <td>457</td>\n",
              "      <td>99.27</td>\n",
              "    </tr>\n",
              "    <tr>\n",
              "      <th>4</th>\n",
              "      <td>10120</td>\n",
              "      <td>Zebra invcing error</td>\n",
              "      <td>-9000</td>\n",
              "      <td>0.00</td>\n",
              "    </tr>\n",
              "  </tbody>\n",
              "</table>\n",
              "</div>\n",
              "    <div class=\"colab-df-buttons\">\n",
              "\n",
              "  <div class=\"colab-df-container\">\n",
              "    <button class=\"colab-df-convert\" onclick=\"convertToInteractive('df-6ef5f571-ddd4-4710-843a-0e6079fb3795')\"\n",
              "            title=\"Convert this dataframe to an interactive table.\"\n",
              "            style=\"display:none;\">\n",
              "\n",
              "  <svg xmlns=\"http://www.w3.org/2000/svg\" height=\"24px\" viewBox=\"0 -960 960 960\">\n",
              "    <path d=\"M120-120v-720h720v720H120Zm60-500h600v-160H180v160Zm220 220h160v-160H400v160Zm0 220h160v-160H400v160ZM180-400h160v-160H180v160Zm440 0h160v-160H620v160ZM180-180h160v-160H180v160Zm440 0h160v-160H620v160Z\"/>\n",
              "  </svg>\n",
              "    </button>\n",
              "\n",
              "  <style>\n",
              "    .colab-df-container {\n",
              "      display:flex;\n",
              "      gap: 12px;\n",
              "    }\n",
              "\n",
              "    .colab-df-convert {\n",
              "      background-color: #E8F0FE;\n",
              "      border: none;\n",
              "      border-radius: 50%;\n",
              "      cursor: pointer;\n",
              "      display: none;\n",
              "      fill: #1967D2;\n",
              "      height: 32px;\n",
              "      padding: 0 0 0 0;\n",
              "      width: 32px;\n",
              "    }\n",
              "\n",
              "    .colab-df-convert:hover {\n",
              "      background-color: #E2EBFA;\n",
              "      box-shadow: 0px 1px 2px rgba(60, 64, 67, 0.3), 0px 1px 3px 1px rgba(60, 64, 67, 0.15);\n",
              "      fill: #174EA6;\n",
              "    }\n",
              "\n",
              "    .colab-df-buttons div {\n",
              "      margin-bottom: 4px;\n",
              "    }\n",
              "\n",
              "    [theme=dark] .colab-df-convert {\n",
              "      background-color: #3B4455;\n",
              "      fill: #D2E3FC;\n",
              "    }\n",
              "\n",
              "    [theme=dark] .colab-df-convert:hover {\n",
              "      background-color: #434B5C;\n",
              "      box-shadow: 0px 1px 3px 1px rgba(0, 0, 0, 0.15);\n",
              "      filter: drop-shadow(0px 1px 2px rgba(0, 0, 0, 0.3));\n",
              "      fill: #FFFFFF;\n",
              "    }\n",
              "  </style>\n",
              "\n",
              "    <script>\n",
              "      const buttonEl =\n",
              "        document.querySelector('#df-6ef5f571-ddd4-4710-843a-0e6079fb3795 button.colab-df-convert');\n",
              "      buttonEl.style.display =\n",
              "        google.colab.kernel.accessAllowed ? 'block' : 'none';\n",
              "\n",
              "      async function convertToInteractive(key) {\n",
              "        const element = document.querySelector('#df-6ef5f571-ddd4-4710-843a-0e6079fb3795');\n",
              "        const dataTable =\n",
              "          await google.colab.kernel.invokeFunction('convertToInteractive',\n",
              "                                                    [key], {});\n",
              "        if (!dataTable) return;\n",
              "\n",
              "        const docLinkHtml = 'Like what you see? Visit the ' +\n",
              "          '<a target=\"_blank\" href=https://colab.research.google.com/notebooks/data_table.ipynb>data table notebook</a>'\n",
              "          + ' to learn more about interactive tables.';\n",
              "        element.innerHTML = '';\n",
              "        dataTable['output_type'] = 'display_data';\n",
              "        await google.colab.output.renderOutput(dataTable, element);\n",
              "        const docLink = document.createElement('div');\n",
              "        docLink.innerHTML = docLinkHtml;\n",
              "        element.appendChild(docLink);\n",
              "      }\n",
              "    </script>\n",
              "  </div>\n",
              "\n",
              "\n",
              "<div id=\"df-9dfabfe7-d5de-4fa3-a02c-c05a8d35b5b4\">\n",
              "  <button class=\"colab-df-quickchart\" onclick=\"quickchart('df-9dfabfe7-d5de-4fa3-a02c-c05a8d35b5b4')\"\n",
              "            title=\"Suggest charts\"\n",
              "            style=\"display:none;\">\n",
              "\n",
              "<svg xmlns=\"http://www.w3.org/2000/svg\" height=\"24px\"viewBox=\"0 0 24 24\"\n",
              "     width=\"24px\">\n",
              "    <g>\n",
              "        <path d=\"M19 3H5c-1.1 0-2 .9-2 2v14c0 1.1.9 2 2 2h14c1.1 0 2-.9 2-2V5c0-1.1-.9-2-2-2zM9 17H7v-7h2v7zm4 0h-2V7h2v10zm4 0h-2v-4h2v4z\"/>\n",
              "    </g>\n",
              "</svg>\n",
              "  </button>\n",
              "\n",
              "<style>\n",
              "  .colab-df-quickchart {\n",
              "      --bg-color: #E8F0FE;\n",
              "      --fill-color: #1967D2;\n",
              "      --hover-bg-color: #E2EBFA;\n",
              "      --hover-fill-color: #174EA6;\n",
              "      --disabled-fill-color: #AAA;\n",
              "      --disabled-bg-color: #DDD;\n",
              "  }\n",
              "\n",
              "  [theme=dark] .colab-df-quickchart {\n",
              "      --bg-color: #3B4455;\n",
              "      --fill-color: #D2E3FC;\n",
              "      --hover-bg-color: #434B5C;\n",
              "      --hover-fill-color: #FFFFFF;\n",
              "      --disabled-bg-color: #3B4455;\n",
              "      --disabled-fill-color: #666;\n",
              "  }\n",
              "\n",
              "  .colab-df-quickchart {\n",
              "    background-color: var(--bg-color);\n",
              "    border: none;\n",
              "    border-radius: 50%;\n",
              "    cursor: pointer;\n",
              "    display: none;\n",
              "    fill: var(--fill-color);\n",
              "    height: 32px;\n",
              "    padding: 0;\n",
              "    width: 32px;\n",
              "  }\n",
              "\n",
              "  .colab-df-quickchart:hover {\n",
              "    background-color: var(--hover-bg-color);\n",
              "    box-shadow: 0 1px 2px rgba(60, 64, 67, 0.3), 0 1px 3px 1px rgba(60, 64, 67, 0.15);\n",
              "    fill: var(--button-hover-fill-color);\n",
              "  }\n",
              "\n",
              "  .colab-df-quickchart-complete:disabled,\n",
              "  .colab-df-quickchart-complete:disabled:hover {\n",
              "    background-color: var(--disabled-bg-color);\n",
              "    fill: var(--disabled-fill-color);\n",
              "    box-shadow: none;\n",
              "  }\n",
              "\n",
              "  .colab-df-spinner {\n",
              "    border: 2px solid var(--fill-color);\n",
              "    border-color: transparent;\n",
              "    border-bottom-color: var(--fill-color);\n",
              "    animation:\n",
              "      spin 1s steps(1) infinite;\n",
              "  }\n",
              "\n",
              "  @keyframes spin {\n",
              "    0% {\n",
              "      border-color: transparent;\n",
              "      border-bottom-color: var(--fill-color);\n",
              "      border-left-color: var(--fill-color);\n",
              "    }\n",
              "    20% {\n",
              "      border-color: transparent;\n",
              "      border-left-color: var(--fill-color);\n",
              "      border-top-color: var(--fill-color);\n",
              "    }\n",
              "    30% {\n",
              "      border-color: transparent;\n",
              "      border-left-color: var(--fill-color);\n",
              "      border-top-color: var(--fill-color);\n",
              "      border-right-color: var(--fill-color);\n",
              "    }\n",
              "    40% {\n",
              "      border-color: transparent;\n",
              "      border-right-color: var(--fill-color);\n",
              "      border-top-color: var(--fill-color);\n",
              "    }\n",
              "    60% {\n",
              "      border-color: transparent;\n",
              "      border-right-color: var(--fill-color);\n",
              "    }\n",
              "    80% {\n",
              "      border-color: transparent;\n",
              "      border-right-color: var(--fill-color);\n",
              "      border-bottom-color: var(--fill-color);\n",
              "    }\n",
              "    90% {\n",
              "      border-color: transparent;\n",
              "      border-bottom-color: var(--fill-color);\n",
              "    }\n",
              "  }\n",
              "</style>\n",
              "\n",
              "  <script>\n",
              "    async function quickchart(key) {\n",
              "      const quickchartButtonEl =\n",
              "        document.querySelector('#' + key + ' button');\n",
              "      quickchartButtonEl.disabled = true;  // To prevent multiple clicks.\n",
              "      quickchartButtonEl.classList.add('colab-df-spinner');\n",
              "      try {\n",
              "        const charts = await google.colab.kernel.invokeFunction(\n",
              "            'suggestCharts', [key], {});\n",
              "      } catch (error) {\n",
              "        console.error('Error during call to suggestCharts:', error);\n",
              "      }\n",
              "      quickchartButtonEl.classList.remove('colab-df-spinner');\n",
              "      quickchartButtonEl.classList.add('colab-df-quickchart-complete');\n",
              "    }\n",
              "    (() => {\n",
              "      let quickchartButtonEl =\n",
              "        document.querySelector('#df-9dfabfe7-d5de-4fa3-a02c-c05a8d35b5b4 button');\n",
              "      quickchartButtonEl.style.display =\n",
              "        google.colab.kernel.accessAllowed ? 'block' : 'none';\n",
              "    })();\n",
              "  </script>\n",
              "</div>\n",
              "\n",
              "    </div>\n",
              "  </div>\n"
            ],
            "application/vnd.google.colaboratory.intrinsic+json": {
              "type": "dataframe",
              "variable_name": "summaized_data",
              "summary": "{\n  \"name\": \"summaized_data\",\n  \"rows\": 5070,\n  \"fields\": [\n    {\n      \"column\": \"StockCode\",\n      \"properties\": {\n        \"dtype\": \"string\",\n        \"num_unique_values\": 4276,\n        \"samples\": [\n          21272,\n          21109,\n          85144\n        ],\n        \"semantic_type\": \"\",\n        \"description\": \"\"\n      }\n    },\n    {\n      \"column\": \"Description\",\n      \"properties\": {\n        \"dtype\": \"string\",\n        \"num_unique_values\": 4681,\n        \"samples\": [\n          \"NUMBER TILE VINTAGE FONT, 5\",\n          \"TEATIME PUSH DOWN RUBBER\",\n          \"STRAWBERY SWIRL FLARE CANDLE\"\n        ],\n        \"semantic_type\": \"\",\n        \"description\": \"\"\n      }\n    },\n    {\n      \"column\": \"Quantity\",\n      \"properties\": {\n        \"dtype\": \"number\",\n        \"std\": 2984,\n        \"min\": -13500,\n        \"max\": 57428,\n        \"num_unique_values\": 2072,\n        \"samples\": [\n          679,\n          1467,\n          3950\n        ],\n        \"semantic_type\": \"\",\n        \"description\": \"\"\n      }\n    },\n    {\n      \"column\": \"Revenue\",\n      \"properties\": {\n        \"dtype\": \"number\",\n        \"std\": 5820.398308760948,\n        \"min\": -136552.02000000002,\n        \"max\": 163051.46,\n        \"num_unique_values\": 4433,\n        \"samples\": [\n          254.88000000000002,\n          4041.7200000000003,\n          418.77000000000004\n        ],\n        \"semantic_type\": \"\",\n        \"description\": \"\"\n      }\n    }\n  ]\n}"
            }
          },
          "metadata": {},
          "execution_count": 11
        }
      ]
    },
    {
      "cell_type": "markdown",
      "source": [
        "# **ABC ANALYSIS**\n",
        "ABC analysis is used to assist decision-makers in inventory management and supply chain management.\n",
        "\n",
        "A:-includes the most important items or customers that bring in the most sales or revenue.\n",
        "\n",
        "B:-includes fairly important items or customers that contribute a moderate amount to sales or revenue.\n",
        "\n",
        "C:-includes less important items or customers that contribute only a small part to total sales or revenue."
      ],
      "metadata": {
        "id": "bKxMYD5ZQBlM"
      }
    },
    {
      "cell_type": "code",
      "source": [
        "# prompt: calculate the total revenue\n",
        "\n",
        "total_revenue = df['Revenue'].sum()\n",
        "print(f\"Total Revenue: {total_revenue}\")"
      ],
      "metadata": {
        "id": "Uev0izYxQE7g",
        "colab": {
          "base_uri": "https://localhost:8080/"
        },
        "outputId": "74d1a6c1-4489-41d4-f479-34eedac5e3c9"
      },
      "execution_count": null,
      "outputs": [
        {
          "output_type": "stream",
          "name": "stdout",
          "text": [
            "Total Revenue: 9539484.634\n"
          ]
        }
      ]
    },
    {
      "cell_type": "code",
      "source": [
        "# Calculate the percentage of total revenue for each product\n",
        "df['Revenue Percentage'] = (df['Revenue'] / total_revenue) * 100\n",
        "\n",
        "# Display the results\n",
        "print(df[['Description', 'Revenue', 'Revenue Percentage']].head())"
      ],
      "metadata": {
        "id": "ZUQE_hLzQIiw",
        "colab": {
          "base_uri": "https://localhost:8080/"
        },
        "outputId": "3609e25b-0647-4603-f176-e3c6bc17ce3e"
      },
      "execution_count": null,
      "outputs": [
        {
          "output_type": "stream",
          "name": "stdout",
          "text": [
            "                           Description  Revenue  Revenue Percentage\n",
            "0  15CM CHRISTMAS GLASS BALL 20 LIGHTS     83.4            0.000874\n",
            "1                   PINK CHERRY LIGHTS     81.0            0.000849\n",
            "2                  WHITE CHERRY LIGHTS     81.0            0.000849\n",
            "3         RECORD FRAME 7\" SINGLE SIZE     100.8            0.001057\n",
            "4       STRAWBERRY CERAMIC TRINKET BOX     30.0            0.000314\n"
          ]
        }
      ]
    },
    {
      "cell_type": "code",
      "source": [
        "# Calculate cumulative revenue percentage\n",
        "df['Cumulative Revenue Percentage'] = df['Revenue Percentage'].cumsum()\n",
        "\n",
        "# Display the results\n",
        "print(df[['Description', 'Revenue', 'Revenue Percentage', 'Cumulative Revenue Percentage']].head())\n",
        "print(df.tail())"
      ],
      "metadata": {
        "id": "pu6t5uUSQkp4",
        "colab": {
          "base_uri": "https://localhost:8080/"
        },
        "outputId": "1eca931e-a1d5-45f9-a824-0729a5f35f95"
      },
      "execution_count": null,
      "outputs": [
        {
          "output_type": "stream",
          "name": "stdout",
          "text": [
            "                           Description  Revenue  Revenue Percentage  \\\n",
            "0  15CM CHRISTMAS GLASS BALL 20 LIGHTS     83.4            0.000874   \n",
            "1                   PINK CHERRY LIGHTS     81.0            0.000849   \n",
            "2                  WHITE CHERRY LIGHTS     81.0            0.000849   \n",
            "3         RECORD FRAME 7\" SINGLE SIZE     100.8            0.001057   \n",
            "4       STRAWBERRY CERAMIC TRINKET BOX     30.0            0.000314   \n",
            "\n",
            "   Cumulative Revenue Percentage  \n",
            "0                       0.000874  \n",
            "1                       0.001723  \n",
            "2                       0.002572  \n",
            "3                       0.003629  \n",
            "4                       0.003944  \n",
            "       Invoice StockCode                         Description  Quantity  \\\n",
            "525456  538171     22271                FELTCRAFT DOLL ROSIE         2   \n",
            "525457  538171     22750        FELTCRAFT PRINCESS LOLA DOLL         1   \n",
            "525458  538171     22751      FELTCRAFT PRINCESS OLIVIA DOLL         1   \n",
            "525459  538171     20970  PINK FLORAL FELTCRAFT SHOULDER BAG         2   \n",
            "525460  538171     21931              JUMBO STORAGE BAG SUKI         2   \n",
            "\n",
            "               InvoiceDate  Price  Customer ID         Country  Revenue  \\\n",
            "525456 2010-12-09 20:01:00   2.95      17530.0  United Kingdom     5.90   \n",
            "525457 2010-12-09 20:01:00   3.75      17530.0  United Kingdom     3.75   \n",
            "525458 2010-12-09 20:01:00   3.75      17530.0  United Kingdom     3.75   \n",
            "525459 2010-12-09 20:01:00   3.75      17530.0  United Kingdom     7.50   \n",
            "525460 2010-12-09 20:01:00   1.95      17530.0  United Kingdom     3.90   \n",
            "\n",
            "        Revenue Percentage  Cumulative Revenue Percentage  \n",
            "525456            0.000062                      99.999802  \n",
            "525457            0.000039                      99.999841  \n",
            "525458            0.000039                      99.999880  \n",
            "525459            0.000079                      99.999959  \n",
            "525460            0.000041                     100.000000  \n"
          ]
        }
      ]
    },
    {
      "cell_type": "code",
      "source": [
        "# Define thresholds for A, B, and C categories\n",
        "a_threshold = 80\n",
        "b_threshold = 95\n",
        "\n",
        "# Create a new column 'Category' based on cumulative revenue percentage\n",
        "df['Category'] = 'C'  # Initialize all products to category C\n",
        "df.loc[df['Cumulative Revenue Percentage'] <= a_threshold, 'Category'] = 'A'\n",
        "df.loc[(df['Cumulative Revenue Percentage'] > a_threshold) & (df['Cumulative Revenue Percentage'] <= b_threshold), 'Category'] = 'B'\n",
        "\n",
        "# Display the results\n",
        "print(df[['Description', 'Revenue', 'Revenue Percentage', 'Cumulative Revenue Percentage', 'Category']].head())\n",
        "print(df.tail())"
      ],
      "metadata": {
        "id": "CPMzG692QoLj",
        "colab": {
          "base_uri": "https://localhost:8080/"
        },
        "outputId": "9cd3b1c4-4185-4818-db4b-8a8b3e01031f"
      },
      "execution_count": null,
      "outputs": [
        {
          "output_type": "stream",
          "name": "stdout",
          "text": [
            "                           Description  Revenue  Revenue Percentage  \\\n",
            "0  15CM CHRISTMAS GLASS BALL 20 LIGHTS     83.4            0.000874   \n",
            "1                   PINK CHERRY LIGHTS     81.0            0.000849   \n",
            "2                  WHITE CHERRY LIGHTS     81.0            0.000849   \n",
            "3         RECORD FRAME 7\" SINGLE SIZE     100.8            0.001057   \n",
            "4       STRAWBERRY CERAMIC TRINKET BOX     30.0            0.000314   \n",
            "\n",
            "   Cumulative Revenue Percentage Category  \n",
            "0                       0.000874        A  \n",
            "1                       0.001723        A  \n",
            "2                       0.002572        A  \n",
            "3                       0.003629        A  \n",
            "4                       0.003944        A  \n",
            "       Invoice StockCode                         Description  Quantity  \\\n",
            "525456  538171     22271                FELTCRAFT DOLL ROSIE         2   \n",
            "525457  538171     22750        FELTCRAFT PRINCESS LOLA DOLL         1   \n",
            "525458  538171     22751      FELTCRAFT PRINCESS OLIVIA DOLL         1   \n",
            "525459  538171     20970  PINK FLORAL FELTCRAFT SHOULDER BAG         2   \n",
            "525460  538171     21931              JUMBO STORAGE BAG SUKI         2   \n",
            "\n",
            "               InvoiceDate  Price  Customer ID         Country  Revenue  \\\n",
            "525456 2010-12-09 20:01:00   2.95      17530.0  United Kingdom     5.90   \n",
            "525457 2010-12-09 20:01:00   3.75      17530.0  United Kingdom     3.75   \n",
            "525458 2010-12-09 20:01:00   3.75      17530.0  United Kingdom     3.75   \n",
            "525459 2010-12-09 20:01:00   3.75      17530.0  United Kingdom     7.50   \n",
            "525460 2010-12-09 20:01:00   1.95      17530.0  United Kingdom     3.90   \n",
            "\n",
            "        Revenue Percentage  Cumulative Revenue Percentage Category  \n",
            "525456            0.000062                      99.999802        C  \n",
            "525457            0.000039                      99.999841        C  \n",
            "525458            0.000039                      99.999880        C  \n",
            "525459            0.000079                      99.999959        C  \n",
            "525460            0.000041                     100.000000        C  \n"
          ]
        }
      ]
    },
    {
      "cell_type": "code",
      "source": [
        "# prompt: category_counts and show percentages\n",
        "\n",
        "# Calculate category counts\n",
        "category_counts = df['Category'].value_counts()\n",
        "\n",
        "# Calculate category percentages\n",
        "category_percentages = (category_counts / category_counts.sum()) * 100\n",
        "\n",
        "# Print the results\n",
        "print(\"Category Counts:\")\n",
        "print(category_counts)\n",
        "print(\"\\nCategory Percentages:\")\n",
        "category_percentages\n"
      ],
      "metadata": {
        "id": "WgKS4NU5QuUK",
        "colab": {
          "base_uri": "https://localhost:8080/",
          "height": 354
        },
        "outputId": "47643928-fd13-4aab-bf22-526b83430052"
      },
      "execution_count": null,
      "outputs": [
        {
          "output_type": "stream",
          "name": "stdout",
          "text": [
            "Category Counts:\n",
            "Category\n",
            "A    415299\n",
            "B     80378\n",
            "C     26856\n",
            "Name: count, dtype: int64\n",
            "\n",
            "Category Percentages:\n"
          ]
        },
        {
          "output_type": "execute_result",
          "data": {
            "text/plain": [
              "Category\n",
              "A    79.478043\n",
              "B    15.382378\n",
              "C     5.139580\n",
              "Name: count, dtype: float64"
            ],
            "text/html": [
              "<div>\n",
              "<style scoped>\n",
              "    .dataframe tbody tr th:only-of-type {\n",
              "        vertical-align: middle;\n",
              "    }\n",
              "\n",
              "    .dataframe tbody tr th {\n",
              "        vertical-align: top;\n",
              "    }\n",
              "\n",
              "    .dataframe thead th {\n",
              "        text-align: right;\n",
              "    }\n",
              "</style>\n",
              "<table border=\"1\" class=\"dataframe\">\n",
              "  <thead>\n",
              "    <tr style=\"text-align: right;\">\n",
              "      <th></th>\n",
              "      <th>count</th>\n",
              "    </tr>\n",
              "    <tr>\n",
              "      <th>Category</th>\n",
              "      <th></th>\n",
              "    </tr>\n",
              "  </thead>\n",
              "  <tbody>\n",
              "    <tr>\n",
              "      <th>A</th>\n",
              "      <td>79.478043</td>\n",
              "    </tr>\n",
              "    <tr>\n",
              "      <th>B</th>\n",
              "      <td>15.382378</td>\n",
              "    </tr>\n",
              "    <tr>\n",
              "      <th>C</th>\n",
              "      <td>5.139580</td>\n",
              "    </tr>\n",
              "  </tbody>\n",
              "</table>\n",
              "</div><br><label><b>dtype:</b> float64</label>"
            ]
          },
          "metadata": {},
          "execution_count": 16
        }
      ]
    },
    {
      "cell_type": "code",
      "source": [
        "# Lets classify the products to A B & C categories\n",
        "import inventorize3 as inv\n",
        "data_abc_by_volume= inv.ABC(summaized_data[['Description','Quantity']])\n",
        "\n",
        "# Lets check the classification by volume\n",
        "data_abc_by_volume.tail(5)"
      ],
      "metadata": {
        "id": "xYCNyrX2Begb",
        "colab": {
          "base_uri": "https://localhost:8080/",
          "height": 206
        },
        "outputId": "f3f9f6d6-5e89-4409-9caa-f7b9ba6398b3"
      },
      "execution_count": null,
      "outputs": [
        {
          "output_type": "execute_result",
          "data": {
            "text/plain": [
              "              Description  Quantity  Percentage  comulative Category\n",
              "46                      ?     -9000   -0.001638    1.007736        C\n",
              "4     Zebra invcing error     -9000   -0.001638    1.006097        C\n",
              "273            given away    -10000   -0.001820    1.004277        C\n",
              "1465           given away    -10000   -0.001820    1.002457        C\n",
              "2901           ebay sales    -13500   -0.002457    1.000000        C"
            ],
            "text/html": [
              "\n",
              "  <div id=\"df-2b80f7aa-45c2-498d-8ed7-7d2dc092119a\" class=\"colab-df-container\">\n",
              "    <div>\n",
              "<style scoped>\n",
              "    .dataframe tbody tr th:only-of-type {\n",
              "        vertical-align: middle;\n",
              "    }\n",
              "\n",
              "    .dataframe tbody tr th {\n",
              "        vertical-align: top;\n",
              "    }\n",
              "\n",
              "    .dataframe thead th {\n",
              "        text-align: right;\n",
              "    }\n",
              "</style>\n",
              "<table border=\"1\" class=\"dataframe\">\n",
              "  <thead>\n",
              "    <tr style=\"text-align: right;\">\n",
              "      <th></th>\n",
              "      <th>Description</th>\n",
              "      <th>Quantity</th>\n",
              "      <th>Percentage</th>\n",
              "      <th>comulative</th>\n",
              "      <th>Category</th>\n",
              "    </tr>\n",
              "  </thead>\n",
              "  <tbody>\n",
              "    <tr>\n",
              "      <th>46</th>\n",
              "      <td>?</td>\n",
              "      <td>-9000</td>\n",
              "      <td>-0.001638</td>\n",
              "      <td>1.007736</td>\n",
              "      <td>C</td>\n",
              "    </tr>\n",
              "    <tr>\n",
              "      <th>4</th>\n",
              "      <td>Zebra invcing error</td>\n",
              "      <td>-9000</td>\n",
              "      <td>-0.001638</td>\n",
              "      <td>1.006097</td>\n",
              "      <td>C</td>\n",
              "    </tr>\n",
              "    <tr>\n",
              "      <th>273</th>\n",
              "      <td>given away</td>\n",
              "      <td>-10000</td>\n",
              "      <td>-0.001820</td>\n",
              "      <td>1.004277</td>\n",
              "      <td>C</td>\n",
              "    </tr>\n",
              "    <tr>\n",
              "      <th>1465</th>\n",
              "      <td>given away</td>\n",
              "      <td>-10000</td>\n",
              "      <td>-0.001820</td>\n",
              "      <td>1.002457</td>\n",
              "      <td>C</td>\n",
              "    </tr>\n",
              "    <tr>\n",
              "      <th>2901</th>\n",
              "      <td>ebay sales</td>\n",
              "      <td>-13500</td>\n",
              "      <td>-0.002457</td>\n",
              "      <td>1.000000</td>\n",
              "      <td>C</td>\n",
              "    </tr>\n",
              "  </tbody>\n",
              "</table>\n",
              "</div>\n",
              "    <div class=\"colab-df-buttons\">\n",
              "\n",
              "  <div class=\"colab-df-container\">\n",
              "    <button class=\"colab-df-convert\" onclick=\"convertToInteractive('df-2b80f7aa-45c2-498d-8ed7-7d2dc092119a')\"\n",
              "            title=\"Convert this dataframe to an interactive table.\"\n",
              "            style=\"display:none;\">\n",
              "\n",
              "  <svg xmlns=\"http://www.w3.org/2000/svg\" height=\"24px\" viewBox=\"0 -960 960 960\">\n",
              "    <path d=\"M120-120v-720h720v720H120Zm60-500h600v-160H180v160Zm220 220h160v-160H400v160Zm0 220h160v-160H400v160ZM180-400h160v-160H180v160Zm440 0h160v-160H620v160ZM180-180h160v-160H180v160Zm440 0h160v-160H620v160Z\"/>\n",
              "  </svg>\n",
              "    </button>\n",
              "\n",
              "  <style>\n",
              "    .colab-df-container {\n",
              "      display:flex;\n",
              "      gap: 12px;\n",
              "    }\n",
              "\n",
              "    .colab-df-convert {\n",
              "      background-color: #E8F0FE;\n",
              "      border: none;\n",
              "      border-radius: 50%;\n",
              "      cursor: pointer;\n",
              "      display: none;\n",
              "      fill: #1967D2;\n",
              "      height: 32px;\n",
              "      padding: 0 0 0 0;\n",
              "      width: 32px;\n",
              "    }\n",
              "\n",
              "    .colab-df-convert:hover {\n",
              "      background-color: #E2EBFA;\n",
              "      box-shadow: 0px 1px 2px rgba(60, 64, 67, 0.3), 0px 1px 3px 1px rgba(60, 64, 67, 0.15);\n",
              "      fill: #174EA6;\n",
              "    }\n",
              "\n",
              "    .colab-df-buttons div {\n",
              "      margin-bottom: 4px;\n",
              "    }\n",
              "\n",
              "    [theme=dark] .colab-df-convert {\n",
              "      background-color: #3B4455;\n",
              "      fill: #D2E3FC;\n",
              "    }\n",
              "\n",
              "    [theme=dark] .colab-df-convert:hover {\n",
              "      background-color: #434B5C;\n",
              "      box-shadow: 0px 1px 3px 1px rgba(0, 0, 0, 0.15);\n",
              "      filter: drop-shadow(0px 1px 2px rgba(0, 0, 0, 0.3));\n",
              "      fill: #FFFFFF;\n",
              "    }\n",
              "  </style>\n",
              "\n",
              "    <script>\n",
              "      const buttonEl =\n",
              "        document.querySelector('#df-2b80f7aa-45c2-498d-8ed7-7d2dc092119a button.colab-df-convert');\n",
              "      buttonEl.style.display =\n",
              "        google.colab.kernel.accessAllowed ? 'block' : 'none';\n",
              "\n",
              "      async function convertToInteractive(key) {\n",
              "        const element = document.querySelector('#df-2b80f7aa-45c2-498d-8ed7-7d2dc092119a');\n",
              "        const dataTable =\n",
              "          await google.colab.kernel.invokeFunction('convertToInteractive',\n",
              "                                                    [key], {});\n",
              "        if (!dataTable) return;\n",
              "\n",
              "        const docLinkHtml = 'Like what you see? Visit the ' +\n",
              "          '<a target=\"_blank\" href=https://colab.research.google.com/notebooks/data_table.ipynb>data table notebook</a>'\n",
              "          + ' to learn more about interactive tables.';\n",
              "        element.innerHTML = '';\n",
              "        dataTable['output_type'] = 'display_data';\n",
              "        await google.colab.output.renderOutput(dataTable, element);\n",
              "        const docLink = document.createElement('div');\n",
              "        docLink.innerHTML = docLinkHtml;\n",
              "        element.appendChild(docLink);\n",
              "      }\n",
              "    </script>\n",
              "  </div>\n",
              "\n",
              "\n",
              "<div id=\"df-a81c9581-5d49-4a32-916d-c5b5a7c6a2fd\">\n",
              "  <button class=\"colab-df-quickchart\" onclick=\"quickchart('df-a81c9581-5d49-4a32-916d-c5b5a7c6a2fd')\"\n",
              "            title=\"Suggest charts\"\n",
              "            style=\"display:none;\">\n",
              "\n",
              "<svg xmlns=\"http://www.w3.org/2000/svg\" height=\"24px\"viewBox=\"0 0 24 24\"\n",
              "     width=\"24px\">\n",
              "    <g>\n",
              "        <path d=\"M19 3H5c-1.1 0-2 .9-2 2v14c0 1.1.9 2 2 2h14c1.1 0 2-.9 2-2V5c0-1.1-.9-2-2-2zM9 17H7v-7h2v7zm4 0h-2V7h2v10zm4 0h-2v-4h2v4z\"/>\n",
              "    </g>\n",
              "</svg>\n",
              "  </button>\n",
              "\n",
              "<style>\n",
              "  .colab-df-quickchart {\n",
              "      --bg-color: #E8F0FE;\n",
              "      --fill-color: #1967D2;\n",
              "      --hover-bg-color: #E2EBFA;\n",
              "      --hover-fill-color: #174EA6;\n",
              "      --disabled-fill-color: #AAA;\n",
              "      --disabled-bg-color: #DDD;\n",
              "  }\n",
              "\n",
              "  [theme=dark] .colab-df-quickchart {\n",
              "      --bg-color: #3B4455;\n",
              "      --fill-color: #D2E3FC;\n",
              "      --hover-bg-color: #434B5C;\n",
              "      --hover-fill-color: #FFFFFF;\n",
              "      --disabled-bg-color: #3B4455;\n",
              "      --disabled-fill-color: #666;\n",
              "  }\n",
              "\n",
              "  .colab-df-quickchart {\n",
              "    background-color: var(--bg-color);\n",
              "    border: none;\n",
              "    border-radius: 50%;\n",
              "    cursor: pointer;\n",
              "    display: none;\n",
              "    fill: var(--fill-color);\n",
              "    height: 32px;\n",
              "    padding: 0;\n",
              "    width: 32px;\n",
              "  }\n",
              "\n",
              "  .colab-df-quickchart:hover {\n",
              "    background-color: var(--hover-bg-color);\n",
              "    box-shadow: 0 1px 2px rgba(60, 64, 67, 0.3), 0 1px 3px 1px rgba(60, 64, 67, 0.15);\n",
              "    fill: var(--button-hover-fill-color);\n",
              "  }\n",
              "\n",
              "  .colab-df-quickchart-complete:disabled,\n",
              "  .colab-df-quickchart-complete:disabled:hover {\n",
              "    background-color: var(--disabled-bg-color);\n",
              "    fill: var(--disabled-fill-color);\n",
              "    box-shadow: none;\n",
              "  }\n",
              "\n",
              "  .colab-df-spinner {\n",
              "    border: 2px solid var(--fill-color);\n",
              "    border-color: transparent;\n",
              "    border-bottom-color: var(--fill-color);\n",
              "    animation:\n",
              "      spin 1s steps(1) infinite;\n",
              "  }\n",
              "\n",
              "  @keyframes spin {\n",
              "    0% {\n",
              "      border-color: transparent;\n",
              "      border-bottom-color: var(--fill-color);\n",
              "      border-left-color: var(--fill-color);\n",
              "    }\n",
              "    20% {\n",
              "      border-color: transparent;\n",
              "      border-left-color: var(--fill-color);\n",
              "      border-top-color: var(--fill-color);\n",
              "    }\n",
              "    30% {\n",
              "      border-color: transparent;\n",
              "      border-left-color: var(--fill-color);\n",
              "      border-top-color: var(--fill-color);\n",
              "      border-right-color: var(--fill-color);\n",
              "    }\n",
              "    40% {\n",
              "      border-color: transparent;\n",
              "      border-right-color: var(--fill-color);\n",
              "      border-top-color: var(--fill-color);\n",
              "    }\n",
              "    60% {\n",
              "      border-color: transparent;\n",
              "      border-right-color: var(--fill-color);\n",
              "    }\n",
              "    80% {\n",
              "      border-color: transparent;\n",
              "      border-right-color: var(--fill-color);\n",
              "      border-bottom-color: var(--fill-color);\n",
              "    }\n",
              "    90% {\n",
              "      border-color: transparent;\n",
              "      border-bottom-color: var(--fill-color);\n",
              "    }\n",
              "  }\n",
              "</style>\n",
              "\n",
              "  <script>\n",
              "    async function quickchart(key) {\n",
              "      const quickchartButtonEl =\n",
              "        document.querySelector('#' + key + ' button');\n",
              "      quickchartButtonEl.disabled = true;  // To prevent multiple clicks.\n",
              "      quickchartButtonEl.classList.add('colab-df-spinner');\n",
              "      try {\n",
              "        const charts = await google.colab.kernel.invokeFunction(\n",
              "            'suggestCharts', [key], {});\n",
              "      } catch (error) {\n",
              "        console.error('Error during call to suggestCharts:', error);\n",
              "      }\n",
              "      quickchartButtonEl.classList.remove('colab-df-spinner');\n",
              "      quickchartButtonEl.classList.add('colab-df-quickchart-complete');\n",
              "    }\n",
              "    (() => {\n",
              "      let quickchartButtonEl =\n",
              "        document.querySelector('#df-a81c9581-5d49-4a32-916d-c5b5a7c6a2fd button');\n",
              "      quickchartButtonEl.style.display =\n",
              "        google.colab.kernel.accessAllowed ? 'block' : 'none';\n",
              "    })();\n",
              "  </script>\n",
              "</div>\n",
              "\n",
              "    </div>\n",
              "  </div>\n"
            ],
            "application/vnd.google.colaboratory.intrinsic+json": {
              "type": "dataframe",
              "summary": "{\n  \"name\": \"data_abc_by_volume\",\n  \"rows\": 5,\n  \"fields\": [\n    {\n      \"column\": \"Description\",\n      \"properties\": {\n        \"dtype\": \"string\",\n        \"num_unique_values\": 4,\n        \"samples\": [\n          \"Zebra invcing error\",\n          \"ebay sales\",\n          \"?\"\n        ],\n        \"semantic_type\": \"\",\n        \"description\": \"\"\n      }\n    },\n    {\n      \"column\": \"Quantity\",\n      \"properties\": {\n        \"dtype\": \"number\",\n        \"std\": 1857,\n        \"min\": -13500,\n        \"max\": -9000,\n        \"num_unique_values\": 3,\n        \"samples\": [\n          -9000,\n          -10000,\n          -13500\n        ],\n        \"semantic_type\": \"\",\n        \"description\": \"\"\n      }\n    },\n    {\n      \"column\": \"Percentage\",\n      \"properties\": {\n        \"dtype\": \"number\",\n        \"std\": 0.00033807648459489024,\n        \"min\": -0.002457192521034023,\n        \"max\": -0.0016381283473560152,\n        \"num_unique_values\": 3,\n        \"samples\": [\n          -0.0016381283473560152,\n          -0.0018201426081733503,\n          -0.002457192521034023\n        ],\n        \"semantic_type\": \"\",\n        \"description\": \"\"\n      }\n    },\n    {\n      \"column\": \"comulative\",\n      \"properties\": {\n        \"dtype\": \"number\",\n        \"std\": 0.003030961019770281,\n        \"min\": 0.9999999999999983,\n        \"max\": 1.0077356060847353,\n        \"num_unique_values\": 5,\n        \"samples\": [\n          1.0060974777373792,\n          0.9999999999999983,\n          1.0042773351292058\n        ],\n        \"semantic_type\": \"\",\n        \"description\": \"\"\n      }\n    },\n    {\n      \"column\": \"Category\",\n      \"properties\": {\n        \"dtype\": \"category\",\n        \"num_unique_values\": 1,\n        \"samples\": [\n          \"C\"\n        ],\n        \"semantic_type\": \"\",\n        \"description\": \"\"\n      }\n    }\n  ]\n}"
            }
          },
          "metadata": {},
          "execution_count": 17
        }
      ]
    },
    {
      "cell_type": "code",
      "source": [
        "# Assuming 'category_counts' is already defined as in the previous code\n",
        "\n",
        "plt.figure(figsize=(8, 6))\n",
        "category_counts.plot(kind='bar', color=['skyblue', 'lightcoral', 'lightgreen'])\n",
        "plt.title('ABC Analysis of Products')\n",
        "plt.xlabel('Category')\n",
        "plt.ylabel('Number of Products')\n",
        "plt.xticks(rotation=0)\n",
        "plt.show()"
      ],
      "metadata": {
        "id": "JxfxN3sgQyHn",
        "colab": {
          "base_uri": "https://localhost:8080/",
          "height": 564
        },
        "outputId": "1aa95c4c-6bd9-4a1f-8273-ae18b1aee1c0"
      },
      "execution_count": null,
      "outputs": [
        {
          "output_type": "display_data",
          "data": {
            "text/plain": [
              "<Figure size 800x600 with 1 Axes>"
            ],
            "image/png": "[encoded data removed]"
          },
          "metadata": {}
        }
      ]
    },
    {
      "cell_type": "markdown",
      "source": [
        "it shows that the products comes under category A genreted highest revenue than other products"
      ],
      "metadata": {
        "id": "4vLhG-y1GWIX"
      }
    },
    {
      "cell_type": "markdown",
      "source": [
        "# **XYZ ANALYSIS**\n",
        "XYZ Analysis is a method used to group items based on how much their demand changes over time — steady, moderate, or unpredictable.\n",
        "\n",
        "**X items**: These have very stable and regular demand, making them easy to forecast and manage.\n",
        "\n",
        "**Y items**: These have some fluctuations in demand, often due to seasonal or occasional changes.\n",
        "\n",
        "**Z items**: These have highly unpredictable demand, making them the hardest to manage and forecast."
      ],
      "metadata": {
        "id": "dzYlePIcQ4WA"
      }
    },
    {
      "cell_type": "code",
      "source": [
        "# prompt: create  month column\n",
        "# Convert 'InvoiceDate' column to datetime objects if it's not already\n",
        "df['InvoiceDate'] = pd.to_datetime(df['InvoiceDate'])\n",
        "\n",
        "# Extract the month from the 'InvoiceDate' column\n",
        "df['Month'] = df['InvoiceDate'].dt.month\n",
        "\n",
        "# Display the updated DataFrame with the 'Month' column\n",
        "print(df.head())\n"
      ],
      "metadata": {
        "id": "-gvhfDf-IRTb",
        "colab": {
          "base_uri": "https://localhost:8080/"
        },
        "outputId": "5b61fc88-4e4b-4144-9277-68fa5c1c52b3"
      },
      "execution_count": null,
      "outputs": [
        {
          "output_type": "stream",
          "name": "stdout",
          "text": [
            "  Invoice StockCode                          Description  Quantity  \\\n",
            "0  489434     85048  15CM CHRISTMAS GLASS BALL 20 LIGHTS        12   \n",
            "1  489434    79323P                   PINK CHERRY LIGHTS        12   \n",
            "2  489434    79323W                  WHITE CHERRY LIGHTS        12   \n",
            "3  489434     22041         RECORD FRAME 7\" SINGLE SIZE         48   \n",
            "4  489434     21232       STRAWBERRY CERAMIC TRINKET BOX        24   \n",
            "\n",
            "          InvoiceDate  Price  Customer ID         Country  Revenue  \\\n",
            "0 2009-12-01 07:45:00   6.95      13085.0  United Kingdom     83.4   \n",
            "1 2009-12-01 07:45:00   6.75      13085.0  United Kingdom     81.0   \n",
            "2 2009-12-01 07:45:00   6.75      13085.0  United Kingdom     81.0   \n",
            "3 2009-12-01 07:45:00   2.10      13085.0  United Kingdom    100.8   \n",
            "4 2009-12-01 07:45:00   1.25      13085.0  United Kingdom     30.0   \n",
            "\n",
            "   Revenue Percentage  Cumulative Revenue Percentage Category  Month  \n",
            "0            0.000874                       0.000874        A     12  \n",
            "1            0.000849                       0.001723        A     12  \n",
            "2            0.000849                       0.002572        A     12  \n",
            "3            0.001057                       0.003629        A     12  \n",
            "4            0.000314                       0.003944        A     12  \n"
          ]
        }
      ]
    },
    {
      "cell_type": "code",
      "source": [
        "# calculate total_demand and yearly average\n",
        "# Calculate total demand\n",
        "total_demand = df['Quantity'].sum()\n",
        "print(f\"Total Demand: {total_demand}\")\n",
        "\n",
        "# Calculate yearly average demand\n",
        "yearly_average_demand = df.groupby('Month')['Quantity'].mean()\n",
        "print(\"\\nYearly Average Demand:\")\n",
        "yearly_average_demand\n"
      ],
      "metadata": {
        "colab": {
          "base_uri": "https://localhost:8080/",
          "height": 546
        },
        "id": "7RS1mZcRmbo_",
        "outputId": "0a1d4064-4c0a-47a0-90fb-224bba747e92"
      },
      "execution_count": null,
      "outputs": [
        {
          "output_type": "stream",
          "name": "stdout",
          "text": [
            "Total Demand: 5494075\n",
            "\n",
            "Yearly Average Demand:\n"
          ]
        },
        {
          "output_type": "execute_result",
          "data": {
            "text/plain": [
              "Month\n",
              "1     12.301854\n",
              "2     12.760891\n",
              "3     12.214014\n",
              "4     10.679795\n",
              "5     10.491606\n",
              "6      9.847041\n",
              "7      9.070305\n",
              "8     13.996199\n",
              "9     11.471994\n",
              "10    10.253067\n",
              "11     8.815889\n",
              "12     8.594607\n",
              "Name: Quantity, dtype: float64"
            ],
            "text/html": [
              "<div>\n",
              "<style scoped>\n",
              "    .dataframe tbody tr th:only-of-type {\n",
              "        vertical-align: middle;\n",
              "    }\n",
              "\n",
              "    .dataframe tbody tr th {\n",
              "        vertical-align: top;\n",
              "    }\n",
              "\n",
              "    .dataframe thead th {\n",
              "        text-align: right;\n",
              "    }\n",
              "</style>\n",
              "<table border=\"1\" class=\"dataframe\">\n",
              "  <thead>\n",
              "    <tr style=\"text-align: right;\">\n",
              "      <th></th>\n",
              "      <th>Quantity</th>\n",
              "    </tr>\n",
              "    <tr>\n",
              "      <th>Month</th>\n",
              "      <th></th>\n",
              "    </tr>\n",
              "  </thead>\n",
              "  <tbody>\n",
              "    <tr>\n",
              "      <th>1</th>\n",
              "      <td>12.301854</td>\n",
              "    </tr>\n",
              "    <tr>\n",
              "      <th>2</th>\n",
              "      <td>12.760891</td>\n",
              "    </tr>\n",
              "    <tr>\n",
              "      <th>3</th>\n",
              "      <td>12.214014</td>\n",
              "    </tr>\n",
              "    <tr>\n",
              "      <th>4</th>\n",
              "      <td>10.679795</td>\n",
              "    </tr>\n",
              "    <tr>\n",
              "      <th>5</th>\n",
              "      <td>10.491606</td>\n",
              "    </tr>\n",
              "    <tr>\n",
              "      <th>6</th>\n",
              "      <td>9.847041</td>\n",
              "    </tr>\n",
              "    <tr>\n",
              "      <th>7</th>\n",
              "      <td>9.070305</td>\n",
              "    </tr>\n",
              "    <tr>\n",
              "      <th>8</th>\n",
              "      <td>13.996199</td>\n",
              "    </tr>\n",
              "    <tr>\n",
              "      <th>9</th>\n",
              "      <td>11.471994</td>\n",
              "    </tr>\n",
              "    <tr>\n",
              "      <th>10</th>\n",
              "      <td>10.253067</td>\n",
              "    </tr>\n",
              "    <tr>\n",
              "      <th>11</th>\n",
              "      <td>8.815889</td>\n",
              "    </tr>\n",
              "    <tr>\n",
              "      <th>12</th>\n",
              "      <td>8.594607</td>\n",
              "    </tr>\n",
              "  </tbody>\n",
              "</table>\n",
              "</div><br><label><b>dtype:</b> float64</label>"
            ]
          },
          "metadata": {},
          "execution_count": 20
        }
      ]
    },
    {
      "cell_type": "code",
      "source": [
        "# prompt: Calculate standard deviation in demand\n",
        "std_dev_demand = df['Quantity'].std()\n",
        "print(f\"Standard Deviation of Demand (Quantity): {std_dev_demand}\")\n"
      ],
      "metadata": {
        "colab": {
          "base_uri": "https://localhost:8080/"
        },
        "id": "d30lU96wmKB7",
        "outputId": "e6bc0825-83e3-45cc-d248-ce1552b084ff"
      },
      "execution_count": null,
      "outputs": [
        {
          "output_type": "stream",
          "name": "stdout",
          "text": [
            "Standard Deviation of Demand (Quantity): 97.9059846234834\n"
          ]
        }
      ]
    },
    {
      "cell_type": "code",
      "source": [
        "# prompt: Calculate Coefficient of Variation in demand\n",
        "# Calculate the coefficient of variation for demand (Quantity)\n",
        "cv_demand = df['Quantity'].std() / df['Quantity'].mean()\n",
        "\n",
        "print(f\"Coefficient of Variation in Demand: {cv_demand}\")\n"
      ],
      "metadata": {
        "colab": {
          "base_uri": "https://localhost:8080/"
        },
        "id": "SmRUvnq_mluU",
        "outputId": "1590c296-3291-4955-ee79-19c74e1a68b5"
      },
      "execution_count": null,
      "outputs": [
        {
          "output_type": "stream",
          "name": "stdout",
          "text": [
            "Coefficient of Variation in Demand: 9.311687201806064\n"
          ]
        }
      ]
    },
    {
      "cell_type": "code",
      "source": [
        "# Define thresholds for X, Y, and Z categories\n",
        "x_threshold = 0.1\n",
        "y_threshold = 0.2\n",
        "\n",
        "# Create a new column 'DemandCategory' based on coefficient of variation\n",
        "df['DemandCategory'] = 'Z'\n",
        "df.loc[df['Quantity'] <= x_threshold, 'DemandCategory'] = 'X'\n",
        "df.loc[(df['Quantity'] > x_threshold) & (df['Quantity'] <= y_threshold), 'DemandCategory'] = 'Y'\n"
      ],
      "metadata": {
        "id": "4n_pROEkoSXG"
      },
      "execution_count": null,
      "outputs": []
    },
    {
      "cell_type": "code",
      "source": [
        "# prompt:  Analyze the XYZ Category counts\n",
        "\n",
        "# Calculate XYZ category counts\n",
        "xyz_category_counts = df['DemandCategory'].value_counts()\n",
        "\n",
        "# Calculate XYZ category percentages\n",
        "xyz_category_percentages = (xyz_category_counts / xyz_category_counts.sum()) * 100\n",
        "\n",
        "# Print the results\n",
        "print(\"\\nXYZ Category Counts:\")\n",
        "print(xyz_category_counts)\n",
        "print(\"\\nXYZ Category Percentages:\")\n",
        "print(xyz_category_percentages)"
      ],
      "metadata": {
        "id": "XuYLrttbXV6O",
        "colab": {
          "base_uri": "https://localhost:8080/"
        },
        "outputId": "0fbdf77a-54ab-4fb4-d962-6c341d36309c"
      },
      "execution_count": null,
      "outputs": [
        {
          "output_type": "stream",
          "name": "stdout",
          "text": [
            "\n",
            "XYZ Category Counts:\n",
            "DemandCategory\n",
            "Z    512034\n",
            "X     10499\n",
            "Name: count, dtype: int64\n",
            "\n",
            "XYZ Category Percentages:\n",
            "DemandCategory\n",
            "Z    97.990749\n",
            "X     2.009251\n",
            "Name: count, dtype: float64\n"
          ]
        }
      ]
    },
    {
      "cell_type": "code",
      "source": [
        "# Visualization for XYZ analysis\n",
        "plt.figure(figsize=(8, 6))\n",
        "xyz_category_counts.plot(kind='bar', color=['skyblue', 'lightcoral', 'lightgreen'])\n",
        "plt.title('XYZ Analysis of Products')\n",
        "plt.xlabel('Category')\n",
        "plt.ylabel('Number of Products')\n",
        "plt.xticks(rotation=0)\n",
        "plt.show()"
      ],
      "metadata": {
        "id": "OdYSRf2mcTHk",
        "colab": {
          "base_uri": "https://localhost:8080/",
          "height": 564
        },
        "outputId": "87ae86e9-9537-486c-f962-302379475cd6"
      },
      "execution_count": null,
      "outputs": [
        {
          "output_type": "display_data",
          "data": {
            "text/plain": [
              "<Figure size 800x600 with 1 Axes>"
            ],
            "image/png": "[encoded data removed]"
          },
          "metadata": {}
        }
      ]
    },
    {
      "cell_type": "code",
      "source": [
        "# Combined ABC-XYZ Analysis\n",
        "\n",
        "\n",
        "# Combined ABC-XYZ Analysis\n",
        "df['CombinedCategory'] = df['Category'] + df['DemandCategory']\n",
        "combined_category_counts = df['CombinedCategory'].value_counts()\n",
        "combined_category_percentages = (combined_category_counts / combined_category_counts.sum()) * 100\n",
        "\n",
        "# Print the results\n",
        "print(\"\\nCombined ABC-XYZ Category Counts:\")\n",
        "print(combined_category_counts)\n",
        "print(\"\\nCombined ABC-XYZ Category Percentages:\")\n",
        "print(combined_category_percentages)\n",
        "\n"
      ],
      "metadata": {
        "id": "tPfF_O6mcXgF",
        "colab": {
          "base_uri": "https://localhost:8080/"
        },
        "outputId": "d38633f4-32bc-4377-ca46-8a07c4d03def"
      },
      "execution_count": null,
      "outputs": [
        {
          "output_type": "stream",
          "name": "stdout",
          "text": [
            "\n",
            "Combined ABC-XYZ Category Counts:\n",
            "CombinedCategory\n",
            "AZ    406432\n",
            "BZ     79219\n",
            "CZ     26383\n",
            "AX      8867\n",
            "BX      1159\n",
            "CX       473\n",
            "Name: count, dtype: int64\n",
            "\n",
            "Combined ABC-XYZ Category Percentages:\n",
            "CombinedCategory\n",
            "AZ    77.781116\n",
            "BZ    15.160574\n",
            "CZ     5.049059\n",
            "AX     1.696926\n",
            "BX     0.221804\n",
            "CX     0.090521\n",
            "Name: count, dtype: float64\n"
          ]
        }
      ]
    },
    {
      "cell_type": "markdown",
      "source": [
        "We combine ABC-XYZ Analysis to get a more complete view of inventory by considering both the value (ABC) and demand variability (XYZ) of items"
      ],
      "metadata": {
        "id": "tk2gziQUpcN3"
      }
    },
    {
      "cell_type": "code",
      "source": [
        "# Visualization for the combined analysis\n",
        "plt.figure(figsize=(10,6))\n",
        "combined_category_counts.plot(kind='bar')\n",
        "plt.title(\"Combined ABC-XYZ Analysis\")\n",
        "plt.xlabel('Combined Category')\n",
        "plt.ylabel('Number of Products')\n",
        "plt.show()"
      ],
      "metadata": {
        "id": "L-9Cux3CckQQ",
        "colab": {
          "base_uri": "https://localhost:8080/",
          "height": 569
        },
        "outputId": "605b2637-ac46-4430-9859-2778737a6d5b"
      },
      "execution_count": null,
      "outputs": [
        {
          "output_type": "display_data",
          "data": {
            "text/plain": [
              "<Figure size 1000x600 with 1 Axes>"
            ],
            "image/png": "[encoded data removed]"
          },
          "metadata": {}
        }
      ]
    },
    {
      "cell_type": "markdown",
      "source": [
        "# **Multi- Criteria ABC Analysis**\n",
        "Multi-Criteria ABC Analysis is an advanced inventory classification method that considers multiple factors—like revenue, quantity sold, and order frequency—to prioritize and manage stock more effectively than traditional ABC analysis.\n"
      ],
      "metadata": {
        "id": "Q0EOyTmkdeb2"
      }
    },
    {
      "cell_type": "code",
      "source": [
        "# Add the ABC classification for both Volume & Revenue\n",
        "import inventorize3 as inv\n",
        "\n",
        "data_abc_by_multi_criteria= inv.productmix(summaized_data['Description'],summaized_data['Quantity'],summaized_data['Revenue'])\n",
        "data_abc_by_multi_criteria['abc_rank'] = data_abc_by_multi_criteria['comulative_revenue'].rank().astype(int)\n",
        "data_abc_by_multi_criteria.head()"
      ],
      "metadata": {
        "id": "ThJUERwzhE-v",
        "colab": {
          "base_uri": "https://localhost:8080/",
          "height": 451
        },
        "outputId": "d177bd4c-c6e3-45a5-9e78-a563cc72a755"
      },
      "execution_count": null,
      "outputs": [
        {
          "output_type": "execute_result",
          "data": {
            "text/plain": [
              "                                    skus  sales    revenue  sales_mix  \\\n",
              "1839            REGENCY CAKESTAND 3 TIER  13093  163051.46   0.002383   \n",
              "4601  WHITE HANGING HEART T-LIGHT HOLDER  57428  155825.52   0.010453   \n",
              "5054                      DOTCOM POSTAGE    731  116401.99   0.000133   \n",
              "3092       ASSORTED COLOUR BIRD ORNAMENT  44925   72454.12   0.008177   \n",
              "1422     PAPER CHAIN KIT 50'S CHRISTMAS   17083   57870.20   0.003109   \n",
              "\n",
              "      comulative_sales  revenue_mix  comulative_revenue sales_category  \\\n",
              "1839          0.227408     0.017092            0.017092              A   \n",
              "4601          0.010453     0.016335            0.033427              A   \n",
              "5054          0.921770     0.012202            0.045629              B   \n",
              "3092          0.045650     0.007595            0.053224              A   \n",
              "1422          0.156685     0.006066            0.059291              A   \n",
              "\n",
              "     revenue_category product_mix  abc_rank  \n",
              "1839                A         A_A         1  \n",
              "4601                A         A_A         2  \n",
              "5054                A         B_A         3  \n",
              "3092                A         A_A         4  \n",
              "1422                A         A_A         5  "
            ],
            "text/html": [
              "\n",
              "  <div id=\"df-9d72661c-e102-4abe-ab6d-15f6003a53a5\" class=\"colab-df-container\">\n",
              "    <div>\n",
              "<style scoped>\n",
              "    .dataframe tbody tr th:only-of-type {\n",
              "        vertical-align: middle;\n",
              "    }\n",
              "\n",
              "    .dataframe tbody tr th {\n",
              "        vertical-align: top;\n",
              "    }\n",
              "\n",
              "    .dataframe thead th {\n",
              "        text-align: right;\n",
              "    }\n",
              "</style>\n",
              "<table border=\"1\" class=\"dataframe\">\n",
              "  <thead>\n",
              "    <tr style=\"text-align: right;\">\n",
              "      <th></th>\n",
              "      <th>skus</th>\n",
              "      <th>sales</th>\n",
              "      <th>revenue</th>\n",
              "      <th>sales_mix</th>\n",
              "      <th>comulative_sales</th>\n",
              "      <th>revenue_mix</th>\n",
              "      <th>comulative_revenue</th>\n",
              "      <th>sales_category</th>\n",
              "      <th>revenue_category</th>\n",
              "      <th>product_mix</th>\n",
              "      <th>abc_rank</th>\n",
              "    </tr>\n",
              "  </thead>\n",
              "  <tbody>\n",
              "    <tr>\n",
              "      <th>1839</th>\n",
              "      <td>REGENCY CAKESTAND 3 TIER</td>\n",
              "      <td>13093</td>\n",
              "      <td>163051.46</td>\n",
              "      <td>0.002383</td>\n",
              "      <td>0.227408</td>\n",
              "      <td>0.017092</td>\n",
              "      <td>0.017092</td>\n",
              "      <td>A</td>\n",
              "      <td>A</td>\n",
              "      <td>A_A</td>\n",
              "      <td>1</td>\n",
              "    </tr>\n",
              "    <tr>\n",
              "      <th>4601</th>\n",
              "      <td>WHITE HANGING HEART T-LIGHT HOLDER</td>\n",
              "      <td>57428</td>\n",
              "      <td>155825.52</td>\n",
              "      <td>0.010453</td>\n",
              "      <td>0.010453</td>\n",
              "      <td>0.016335</td>\n",
              "      <td>0.033427</td>\n",
              "      <td>A</td>\n",
              "      <td>A</td>\n",
              "      <td>A_A</td>\n",
              "      <td>2</td>\n",
              "    </tr>\n",
              "    <tr>\n",
              "      <th>5054</th>\n",
              "      <td>DOTCOM POSTAGE</td>\n",
              "      <td>731</td>\n",
              "      <td>116401.99</td>\n",
              "      <td>0.000133</td>\n",
              "      <td>0.921770</td>\n",
              "      <td>0.012202</td>\n",
              "      <td>0.045629</td>\n",
              "      <td>B</td>\n",
              "      <td>A</td>\n",
              "      <td>B_A</td>\n",
              "      <td>3</td>\n",
              "    </tr>\n",
              "    <tr>\n",
              "      <th>3092</th>\n",
              "      <td>ASSORTED COLOUR BIRD ORNAMENT</td>\n",
              "      <td>44925</td>\n",
              "      <td>72454.12</td>\n",
              "      <td>0.008177</td>\n",
              "      <td>0.045650</td>\n",
              "      <td>0.007595</td>\n",
              "      <td>0.053224</td>\n",
              "      <td>A</td>\n",
              "      <td>A</td>\n",
              "      <td>A_A</td>\n",
              "      <td>4</td>\n",
              "    </tr>\n",
              "    <tr>\n",
              "      <th>1422</th>\n",
              "      <td>PAPER CHAIN KIT 50'S CHRISTMAS</td>\n",
              "      <td>17083</td>\n",
              "      <td>57870.20</td>\n",
              "      <td>0.003109</td>\n",
              "      <td>0.156685</td>\n",
              "      <td>0.006066</td>\n",
              "      <td>0.059291</td>\n",
              "      <td>A</td>\n",
              "      <td>A</td>\n",
              "      <td>A_A</td>\n",
              "      <td>5</td>\n",
              "    </tr>\n",
              "  </tbody>\n",
              "</table>\n",
              "</div>\n",
              "    <div class=\"colab-df-buttons\">\n",
              "\n",
              "  <div class=\"colab-df-container\">\n",
              "    <button class=\"colab-df-convert\" onclick=\"convertToInteractive('df-9d72661c-e102-4abe-ab6d-15f6003a53a5')\"\n",
              "            title=\"Convert this dataframe to an interactive table.\"\n",
              "            style=\"display:none;\">\n",
              "\n",
              "  <svg xmlns=\"http://www.w3.org/2000/svg\" height=\"24px\" viewBox=\"0 -960 960 960\">\n",
              "    <path d=\"M120-120v-720h720v720H120Zm60-500h600v-160H180v160Zm220 220h160v-160H400v160Zm0 220h160v-160H400v160ZM180-400h160v-160H180v160Zm440 0h160v-160H620v160ZM180-180h160v-160H180v160Zm440 0h160v-160H620v160Z\"/>\n",
              "  </svg>\n",
              "    </button>\n",
              "\n",
              "  <style>\n",
              "    .colab-df-container {\n",
              "      display:flex;\n",
              "      gap: 12px;\n",
              "    }\n",
              "\n",
              "    .colab-df-convert {\n",
              "      background-color: #E8F0FE;\n",
              "      border: none;\n",
              "      border-radius: 50%;\n",
              "      cursor: pointer;\n",
              "      display: none;\n",
              "      fill: #1967D2;\n",
              "      height: 32px;\n",
              "      padding: 0 0 0 0;\n",
              "      width: 32px;\n",
              "    }\n",
              "\n",
              "    .colab-df-convert:hover {\n",
              "      background-color: #E2EBFA;\n",
              "      box-shadow: 0px 1px 2px rgba(60, 64, 67, 0.3), 0px 1px 3px 1px rgba(60, 64, 67, 0.15);\n",
              "      fill: #174EA6;\n",
              "    }\n",
              "\n",
              "    .colab-df-buttons div {\n",
              "      margin-bottom: 4px;\n",
              "    }\n",
              "\n",
              "    [theme=dark] .colab-df-convert {\n",
              "      background-color: #3B4455;\n",
              "      fill: #D2E3FC;\n",
              "    }\n",
              "\n",
              "    [theme=dark] .colab-df-convert:hover {\n",
              "      background-color: #434B5C;\n",
              "      box-shadow: 0px 1px 3px 1px rgba(0, 0, 0, 0.15);\n",
              "      filter: drop-shadow(0px 1px 2px rgba(0, 0, 0, 0.3));\n",
              "      fill: #FFFFFF;\n",
              "    }\n",
              "  </style>\n",
              "\n",
              "    <script>\n",
              "      const buttonEl =\n",
              "        document.querySelector('#df-9d72661c-e102-4abe-ab6d-15f6003a53a5 button.colab-df-convert');\n",
              "      buttonEl.style.display =\n",
              "        google.colab.kernel.accessAllowed ? 'block' : 'none';\n",
              "\n",
              "      async function convertToInteractive(key) {\n",
              "        const element = document.querySelector('#df-9d72661c-e102-4abe-ab6d-15f6003a53a5');\n",
              "        const dataTable =\n",
              "          await google.colab.kernel.invokeFunction('convertToInteractive',\n",
              "                                                    [key], {});\n",
              "        if (!dataTable) return;\n",
              "\n",
              "        const docLinkHtml = 'Like what you see? Visit the ' +\n",
              "          '<a target=\"_blank\" href=https://colab.research.google.com/notebooks/data_table.ipynb>data table notebook</a>'\n",
              "          + ' to learn more about interactive tables.';\n",
              "        element.innerHTML = '';\n",
              "        dataTable['output_type'] = 'display_data';\n",
              "        await google.colab.output.renderOutput(dataTable, element);\n",
              "        const docLink = document.createElement('div');\n",
              "        docLink.innerHTML = docLinkHtml;\n",
              "        element.appendChild(docLink);\n",
              "      }\n",
              "    </script>\n",
              "  </div>\n",
              "\n",
              "\n",
              "<div id=\"df-f9047498-5796-4ef4-a3e2-367a28f792c1\">\n",
              "  <button class=\"colab-df-quickchart\" onclick=\"quickchart('df-f9047498-5796-4ef4-a3e2-367a28f792c1')\"\n",
              "            title=\"Suggest charts\"\n",
              "            style=\"display:none;\">\n",
              "\n",
              "<svg xmlns=\"http://www.w3.org/2000/svg\" height=\"24px\"viewBox=\"0 0 24 24\"\n",
              "     width=\"24px\">\n",
              "    <g>\n",
              "        <path d=\"M19 3H5c-1.1 0-2 .9-2 2v14c0 1.1.9 2 2 2h14c1.1 0 2-.9 2-2V5c0-1.1-.9-2-2-2zM9 17H7v-7h2v7zm4 0h-2V7h2v10zm4 0h-2v-4h2v4z\"/>\n",
              "    </g>\n",
              "</svg>\n",
              "  </button>\n",
              "\n",
              "<style>\n",
              "  .colab-df-quickchart {\n",
              "      --bg-color: #E8F0FE;\n",
              "      --fill-color: #1967D2;\n",
              "      --hover-bg-color: #E2EBFA;\n",
              "      --hover-fill-color: #174EA6;\n",
              "      --disabled-fill-color: #AAA;\n",
              "      --disabled-bg-color: #DDD;\n",
              "  }\n",
              "\n",
              "  [theme=dark] .colab-df-quickchart {\n",
              "      --bg-color: #3B4455;\n",
              "      --fill-color: #D2E3FC;\n",
              "      --hover-bg-color: #434B5C;\n",
              "      --hover-fill-color: #FFFFFF;\n",
              "      --disabled-bg-color: #3B4455;\n",
              "      --disabled-fill-color: #666;\n",
              "  }\n",
              "\n",
              "  .colab-df-quickchart {\n",
              "    background-color: var(--bg-color);\n",
              "    border: none;\n",
              "    border-radius: 50%;\n",
              "    cursor: pointer;\n",
              "    display: none;\n",
              "    fill: var(--fill-color);\n",
              "    height: 32px;\n",
              "    padding: 0;\n",
              "    width: 32px;\n",
              "  }\n",
              "\n",
              "  .colab-df-quickchart:hover {\n",
              "    background-color: var(--hover-bg-color);\n",
              "    box-shadow: 0 1px 2px rgba(60, 64, 67, 0.3), 0 1px 3px 1px rgba(60, 64, 67, 0.15);\n",
              "    fill: var(--button-hover-fill-color);\n",
              "  }\n",
              "\n",
              "  .colab-df-quickchart-complete:disabled,\n",
              "  .colab-df-quickchart-complete:disabled:hover {\n",
              "    background-color: var(--disabled-bg-color);\n",
              "    fill: var(--disabled-fill-color);\n",
              "    box-shadow: none;\n",
              "  }\n",
              "\n",
              "  .colab-df-spinner {\n",
              "    border: 2px solid var(--fill-color);\n",
              "    border-color: transparent;\n",
              "    border-bottom-color: var(--fill-color);\n",
              "    animation:\n",
              "      spin 1s steps(1) infinite;\n",
              "  }\n",
              "\n",
              "  @keyframes spin {\n",
              "    0% {\n",
              "      border-color: transparent;\n",
              "      border-bottom-color: var(--fill-color);\n",
              "      border-left-color: var(--fill-color);\n",
              "    }\n",
              "    20% {\n",
              "      border-color: transparent;\n",
              "      border-left-color: var(--fill-color);\n",
              "      border-top-color: var(--fill-color);\n",
              "    }\n",
              "    30% {\n",
              "      border-color: transparent;\n",
              "      border-left-color: var(--fill-color);\n",
              "      border-top-color: var(--fill-color);\n",
              "      border-right-color: var(--fill-color);\n",
              "    }\n",
              "    40% {\n",
              "      border-color: transparent;\n",
              "      border-right-color: var(--fill-color);\n",
              "      border-top-color: var(--fill-color);\n",
              "    }\n",
              "    60% {\n",
              "      border-color: transparent;\n",
              "      border-right-color: var(--fill-color);\n",
              "    }\n",
              "    80% {\n",
              "      border-color: transparent;\n",
              "      border-right-color: var(--fill-color);\n",
              "      border-bottom-color: var(--fill-color);\n",
              "    }\n",
              "    90% {\n",
              "      border-color: transparent;\n",
              "      border-bottom-color: var(--fill-color);\n",
              "    }\n",
              "  }\n",
              "</style>\n",
              "\n",
              "  <script>\n",
              "    async function quickchart(key) {\n",
              "      const quickchartButtonEl =\n",
              "        document.querySelector('#' + key + ' button');\n",
              "      quickchartButtonEl.disabled = true;  // To prevent multiple clicks.\n",
              "      quickchartButtonEl.classList.add('colab-df-spinner');\n",
              "      try {\n",
              "        const charts = await google.colab.kernel.invokeFunction(\n",
              "            'suggestCharts', [key], {});\n",
              "      } catch (error) {\n",
              "        console.error('Error during call to suggestCharts:', error);\n",
              "      }\n",
              "      quickchartButtonEl.classList.remove('colab-df-spinner');\n",
              "      quickchartButtonEl.classList.add('colab-df-quickchart-complete');\n",
              "    }\n",
              "    (() => {\n",
              "      let quickchartButtonEl =\n",
              "        document.querySelector('#df-f9047498-5796-4ef4-a3e2-367a28f792c1 button');\n",
              "      quickchartButtonEl.style.display =\n",
              "        google.colab.kernel.accessAllowed ? 'block' : 'none';\n",
              "    })();\n",
              "  </script>\n",
              "</div>\n",
              "\n",
              "    </div>\n",
              "  </div>\n"
            ],
            "application/vnd.google.colaboratory.intrinsic+json": {
              "type": "dataframe",
              "variable_name": "data_abc_by_multi_criteria",
              "summary": "{\n  \"name\": \"data_abc_by_multi_criteria\",\n  \"rows\": 5070,\n  \"fields\": [\n    {\n      \"column\": \"skus\",\n      \"properties\": {\n        \"dtype\": \"string\",\n        \"num_unique_values\": 4681,\n        \"samples\": [\n          \"ROUND CACTUS CANDLE\",\n          \"JUMBO BAG PINK WITH WHITE SPOTS\",\n          \"PURPLE FRANGIPANI HAIRCLIP\"\n        ],\n        \"semantic_type\": \"\",\n        \"description\": \"\"\n      }\n    },\n    {\n      \"column\": \"sales\",\n      \"properties\": {\n        \"dtype\": \"number\",\n        \"std\": 2984,\n        \"min\": -13500,\n        \"max\": 57428,\n        \"num_unique_values\": 2072,\n        \"samples\": [\n          560,\n          1010,\n          2942\n        ],\n        \"semantic_type\": \"\",\n        \"description\": \"\"\n      }\n    },\n    {\n      \"column\": \"revenue\",\n      \"properties\": {\n        \"dtype\": \"number\",\n        \"std\": 5820.398308760923,\n        \"min\": -136552.02000000002,\n        \"max\": 163051.46,\n        \"num_unique_values\": 4433,\n        \"samples\": [\n          523.15,\n          2920.8199999999997,\n          476.4\n        ],\n        \"semantic_type\": \"\",\n        \"description\": \"\"\n      }\n    },\n    {\n      \"column\": \"sales_mix\",\n      \"properties\": {\n        \"dtype\": \"number\",\n        \"std\": 0.0005431677286726896,\n        \"min\": -0.002457192521034023,\n        \"max\": 0.010452714970217917,\n        \"num_unique_values\": 2072,\n        \"samples\": [\n          0.00010192798605770761,\n          0.0001838344034255084,\n          0.0005354859553245996\n        ],\n        \"semantic_type\": \"\",\n        \"description\": \"\"\n      }\n    },\n    {\n      \"column\": \"comulative_sales\",\n      \"properties\": {\n        \"dtype\": \"number\",\n        \"std\": 0.1828876534975938,\n        \"min\": 0.010452714970217917,\n        \"max\": 1.0284022333149796,\n        \"num_unique_values\": 5034,\n        \"samples\": [\n          1.027970313474061,\n          1.0047685916191513,\n          1.0246889603800473\n        ],\n        \"semantic_type\": \"\",\n        \"description\": \"\"\n      }\n    },\n    {\n      \"column\": \"revenue_mix\",\n      \"properties\": {\n        \"dtype\": \"number\",\n        \"std\": 0.0006101376051297653,\n        \"min\": -0.01431440221763234,\n        \"max\": 0.017092271360117487,\n        \"num_unique_values\": 4426,\n        \"samples\": [\n          0.0005779201090539717,\n          3.4805863496713304e-05,\n          5.0566672992032535e-05\n        ],\n        \"semantic_type\": \"\",\n        \"description\": \"\"\n      }\n    },\n    {\n      \"column\": \"comulative_revenue\",\n      \"properties\": {\n        \"dtype\": \"number\",\n        \"std\": 0.18591655414619018,\n        \"min\": 0.017092271360117487,\n        \"max\": 1.0242607430987483,\n        \"num_unique_values\": 4732,\n        \"samples\": [\n          1.013938112078512,\n          0.5477577312065897,\n          1.0236093410326574\n        ],\n        \"semantic_type\": \"\",\n        \"description\": \"\"\n      }\n    },\n    {\n      \"column\": \"sales_category\",\n      \"properties\": {\n        \"dtype\": \"category\",\n        \"num_unique_values\": 3,\n        \"samples\": [\n          \"A\",\n          \"B\",\n          \"C\"\n        ],\n        \"semantic_type\": \"\",\n        \"description\": \"\"\n      }\n    },\n    {\n      \"column\": \"revenue_category\",\n      \"properties\": {\n        \"dtype\": \"category\",\n        \"num_unique_values\": 3,\n        \"samples\": [\n          \"A\",\n          \"B\",\n          \"C\"\n        ],\n        \"semantic_type\": \"\",\n        \"description\": \"\"\n      }\n    },\n    {\n      \"column\": \"product_mix\",\n      \"properties\": {\n        \"dtype\": \"category\",\n        \"num_unique_values\": 9,\n        \"samples\": [\n          \"A_C\",\n          \"B_A\",\n          \"A_B\"\n        ],\n        \"semantic_type\": \"\",\n        \"description\": \"\"\n      }\n    },\n    {\n      \"column\": \"abc_rank\",\n      \"properties\": {\n        \"dtype\": \"number\",\n        \"std\": 1463,\n        \"min\": 1,\n        \"max\": 4901,\n        \"num_unique_values\": 4732,\n        \"samples\": [\n          3241,\n          355,\n          4220\n        ],\n        \"semantic_type\": \"\",\n        \"description\": \"\"\n      }\n    }\n  ]\n}"
            }
          },
          "metadata": {},
          "execution_count": 28
        }
      ]
    },
    {
      "cell_type": "code",
      "source": [
        "# Chech the each category sku counts\n",
        "data_abc_by_multi_criteria.product_mix.value_counts()"
      ],
      "metadata": {
        "id": "G6KwKD6hg976",
        "colab": {
          "base_uri": "https://localhost:8080/",
          "height": 397
        },
        "outputId": "72893ebb-e9e0-428b-ad8b-e2068d00691e"
      },
      "execution_count": null,
      "outputs": [
        {
          "output_type": "execute_result",
          "data": {
            "text/plain": [
              "product_mix\n",
              "C_C    2828\n",
              "A_A     594\n",
              "C_B     370\n",
              "B_B     367\n",
              "B_A     257\n",
              "B_C     251\n",
              "A_B     235\n",
              "C_A      99\n",
              "A_C      69\n",
              "Name: count, dtype: int64"
            ],
            "text/html": [
              "<div>\n",
              "<style scoped>\n",
              "    .dataframe tbody tr th:only-of-type {\n",
              "        vertical-align: middle;\n",
              "    }\n",
              "\n",
              "    .dataframe tbody tr th {\n",
              "        vertical-align: top;\n",
              "    }\n",
              "\n",
              "    .dataframe thead th {\n",
              "        text-align: right;\n",
              "    }\n",
              "</style>\n",
              "<table border=\"1\" class=\"dataframe\">\n",
              "  <thead>\n",
              "    <tr style=\"text-align: right;\">\n",
              "      <th></th>\n",
              "      <th>count</th>\n",
              "    </tr>\n",
              "    <tr>\n",
              "      <th>product_mix</th>\n",
              "      <th></th>\n",
              "    </tr>\n",
              "  </thead>\n",
              "  <tbody>\n",
              "    <tr>\n",
              "      <th>C_C</th>\n",
              "      <td>2828</td>\n",
              "    </tr>\n",
              "    <tr>\n",
              "      <th>A_A</th>\n",
              "      <td>594</td>\n",
              "    </tr>\n",
              "    <tr>\n",
              "      <th>C_B</th>\n",
              "      <td>370</td>\n",
              "    </tr>\n",
              "    <tr>\n",
              "      <th>B_B</th>\n",
              "      <td>367</td>\n",
              "    </tr>\n",
              "    <tr>\n",
              "      <th>B_A</th>\n",
              "      <td>257</td>\n",
              "    </tr>\n",
              "    <tr>\n",
              "      <th>B_C</th>\n",
              "      <td>251</td>\n",
              "    </tr>\n",
              "    <tr>\n",
              "      <th>A_B</th>\n",
              "      <td>235</td>\n",
              "    </tr>\n",
              "    <tr>\n",
              "      <th>C_A</th>\n",
              "      <td>99</td>\n",
              "    </tr>\n",
              "    <tr>\n",
              "      <th>A_C</th>\n",
              "      <td>69</td>\n",
              "    </tr>\n",
              "  </tbody>\n",
              "</table>\n",
              "</div><br><label><b>dtype:</b> int64</label>"
            ]
          },
          "metadata": {},
          "execution_count": 29
        }
      ]
    },
    {
      "cell_type": "code",
      "source": [
        "# visualize how many SKUs are there in each category\n",
        "plt.figure(figsize=(8, 6))\n",
        "data_abc_by_multi_criteria['product_mix'].value_counts().plot(kind='bar')\n",
        "plt.title('Number of SKUs in each category (Multi-Criteria ABC)')\n",
        "plt.xlabel('Category')\n",
        "plt.ylabel('Number of SKUs')\n",
        "plt.xticks(rotation=0)\n",
        "plt.show()\n"
      ],
      "metadata": {
        "id": "13jzt-k_iUek",
        "colab": {
          "base_uri": "https://localhost:8080/",
          "height": 564
        },
        "outputId": "332d8755-9fcc-41a8-bf0a-406f5ce0caf0"
      },
      "execution_count": null,
      "outputs": [
        {
          "output_type": "display_data",
          "data": {
            "text/plain": [
              "<Figure size 800x600 with 1 Axes>"
            ],
            "image/png": "[encoded data removed]"
          },
          "metadata": {}
        }
      ]
    },
    {
      "cell_type": "code",
      "source": [
        "# prompt: show the bar plot for xyz demand by month\n",
        "# Changed 'XYZ Category' to 'DemandCategory'\n",
        "xyz_monthly_revenue = df[df['DemandCategory'] == 'Z'].groupby('Month')['Revenue'].sum()\n",
        "\n",
        "# Create the bar plot\n",
        "plt.figure(figsize=(10, 6))\n",
        "xyz_monthly_revenue.plot(kind='bar', color='skyblue')\n",
        "plt.title('XYZ Demand by Month')\n",
        "plt.xlabel('Month')\n",
        "plt.ylabel('Total Revenue')\n",
        "plt.xticks(rotation=45)\n",
        "plt.tight_layout()\n",
        "plt.show()\n"
      ],
      "metadata": {
        "id": "OKUHiZA3FR8y",
        "colab": {
          "base_uri": "https://localhost:8080/",
          "height": 607
        },
        "outputId": "b466545c-bad1-4094-c4ae-41c5807ad80f"
      },
      "execution_count": null,
      "outputs": [
        {
          "output_type": "display_data",
          "data": {
            "text/plain": [
              "<Figure size 1000x600 with 1 Axes>"
            ],
            "image/png": "[encoded data removed]"
          },
          "metadata": {}
        }
      ]
    },
    {
      "cell_type": "code",
      "source": [
        "# Group data by month and sum revenue\n",
        "monthly_revenue = df.groupby('Month')['Revenue'].sum()\n",
        "\n",
        "# Create the plot\n",
        "plt.figure(figsize=(10, 6))\n",
        "plt.plot(monthly_revenue.index, monthly_revenue.values, marker='o')\n",
        "plt.title('Revenue Generated by Month')\n",
        "plt.xlabel('Month')\n",
        "plt.ylabel('Total Revenue')\n",
        "plt.grid(True)\n",
        "plt.xticks(monthly_revenue.index)\n",
        "plt.show()"
      ],
      "metadata": {
        "id": "Oh-6Hqv_Ih_D",
        "colab": {
          "base_uri": "https://localhost:8080/",
          "height": 564
        },
        "outputId": "6f216e61-f995-4745-afa7-45103b0b6c27"
      },
      "execution_count": null,
      "outputs": [
        {
          "output_type": "display_data",
          "data": {
            "text/plain": [
              "<Figure size 1000x600 with 1 Axes>"
            ],
            "image/png": "[encoded data removed]"
          },
          "metadata": {}
        }
      ]
    },
    {
      "cell_type": "code",
      "source": [
        "df.info()"
      ],
      "metadata": {
        "colab": {
          "base_uri": "https://localhost:8080/"
        },
        "id": "iau6utBelo6t",
        "outputId": "b2d53d42-acfa-44f0-a52f-16bed4f7996e"
      },
      "execution_count": null,
      "outputs": [
        {
          "output_type": "stream",
          "name": "stdout",
          "text": [
            "<class 'pandas.core.frame.DataFrame'>\n",
            "Index: 522533 entries, 0 to 525460\n",
            "Data columns (total 15 columns):\n",
            " #   Column                         Non-Null Count   Dtype         \n",
            "---  ------                         --------------   -----         \n",
            " 0   Invoice                        522533 non-null  object        \n",
            " 1   StockCode                      522533 non-null  object        \n",
            " 2   Description                    522533 non-null  object        \n",
            " 3   Quantity                       522533 non-null  int64         \n",
            " 4   InvoiceDate                    522533 non-null  datetime64[ns]\n",
            " 5   Price                          522533 non-null  float64       \n",
            " 6   Customer ID                    522533 non-null  float64       \n",
            " 7   Country                        522533 non-null  object        \n",
            " 8   Revenue                        522533 non-null  float64       \n",
            " 9   Revenue Percentage             522533 non-null  float64       \n",
            " 10  Cumulative Revenue Percentage  522533 non-null  float64       \n",
            " 11  Category                       522533 non-null  object        \n",
            " 12  Month                          522533 non-null  int32         \n",
            " 13  DemandCategory                 522533 non-null  object        \n",
            " 14  CombinedCategory               522533 non-null  object        \n",
            "dtypes: datetime64[ns](1), float64(5), int32(1), int64(1), object(7)\n",
            "memory usage: 61.8+ MB\n"
          ]
        }
      ]
    }
  ]
}